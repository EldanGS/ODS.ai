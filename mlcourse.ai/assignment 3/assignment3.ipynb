{
 "cells": [
  {
   "cell_type": "markdown",
   "metadata": {},
   "source": [
    "<center>\n",
    "<img src=\"../../img/ods_stickers.jpg\" />\n",
    "    \n",
    "## [mlcourse.ai](mlcourse.ai) – Open Machine Learning Course \n",
    "Author: [Yury Kashnitskiy](https://yorko.github.io) (@yorko). Edited by Anna Tarelina (@feuerengel). This material is subject to the terms and conditions of the [Creative Commons CC BY-NC-SA 4.0](https://creativecommons.org/licenses/by-nc-sa/4.0/) license. Free use is permitted for any non-commercial purpose."
   ]
  },
  {
   "cell_type": "markdown",
   "metadata": {},
   "source": [
    "# <center>Assignment #3. Fall 2018\n",
    "## <center> Decision trees for classification and regression"
   ]
  },
  {
   "cell_type": "markdown",
   "metadata": {},
   "source": [
    "**In this assignment, we will find out how a decision tree works in a regression task, then will build and tune classification decision trees for identifying heart diseases.\n",
    "Fill in the missing code in the cells marked \"You code here\" and answer the questions in the [web form](https://docs.google.com/forms/d/1hsrNFSiRsvgB27gMbXfQWpq8yzNhLZxuh_VSzRz7XhI).**"
   ]
  },
  {
   "cell_type": "code",
   "execution_count": 1,
   "metadata": {},
   "outputs": [],
   "source": [
    "import numpy as np\n",
    "import pandas as pd\n",
    "from matplotlib import pyplot as plt\n",
    "from sklearn.model_selection import train_test_split, GridSearchCV\n",
    "from sklearn.metrics import accuracy_score\n",
    "from sklearn.tree import DecisionTreeClassifier, export_graphviz\n",
    "import graphviz"
   ]
  },
  {
   "cell_type": "markdown",
   "metadata": {},
   "source": [
    "## 1. A simple example of regression using decision trees"
   ]
  },
  {
   "cell_type": "markdown",
   "metadata": {},
   "source": [
    "Let's consider the following one-dimensional regression problem. It is needed to build the function $a(x)$ to approximate original dependency $y = f(x)$ using mean-squared error $min \\sum_i {(a(x_i) - f(x_i))}^2$."
   ]
  },
  {
   "cell_type": "code",
   "execution_count": 2,
   "metadata": {},
   "outputs": [
    {
     "data": {
      "image/png": "[encoded data removed]",
      "text/plain": [
       "<Figure size 432x288 with 1 Axes>"
      ]
     },
     "metadata": {},
     "output_type": "display_data"
    }
   ],
   "source": [
    "X = np.linspace(-2, 2, 7)\n",
    "y = X ** 3\n",
    "\n",
    "plt.scatter(X, y)\n",
    "plt.xlabel(r'$x$')\n",
    "plt.ylabel(r'$y$');"
   ]
  },
  {
   "cell_type": "markdown",
   "metadata": {},
   "source": [
    "Let's make several steps to build the decision tree. Let's choose the symmetric thresholds equal to 0, 1.5 and -1.5 for partitioning. In the case of a regression task, the leaf outputs mean answer for all observations in this leaf."
   ]
  },
  {
   "cell_type": "markdown",
   "metadata": {},
   "source": [
    "Let's start from tree of depth 0 that contains all train observations. How will predictions of this tree look like for $x \\in [-2, 2]$? Create the appropriate plot using a pen, paper and Python if it is needed (without using `sklearn`)."
   ]
  },
  {
   "cell_type": "code",
   "execution_count": 3,
   "metadata": {},
   "outputs": [
    {
     "data": {
      "text/plain": [
       "Text(0,0.5,'Y')"
      ]
     },
     "execution_count": 3,
     "metadata": {},
     "output_type": "execute_result"
    },
    {
     "data": {
      "image/png": "[encoded data removed]",
      "text/plain": [
       "<Figure size 432x288 with 1 Axes>"
      ]
     },
     "metadata": {},
     "output_type": "display_data"
    }
   ],
   "source": [
    "x_check = np.linspace(-2, 2)\n",
    "y_check = x_check ** 3\n",
    "\n",
    "plt.scatter(x_check, y_check)\n",
    "plt.xlabel('X')\n",
    "plt.ylabel('Y')"
   ]
  },
  {
   "cell_type": "markdown",
   "metadata": {},
   "source": [
    "Let's split the data according to the following condition $[x < 0]$. It gives us the tree of depth 1 with two leaves. Let's create a similar plot for predictions of this tree."
   ]
  },
  {
   "cell_type": "code",
   "execution_count": 4,
   "metadata": {},
   "outputs": [
    {
     "data": {
      "text/plain": [
       "Text(0,0.5,'Y')"
      ]
     },
     "execution_count": 4,
     "metadata": {},
     "output_type": "execute_result"
    },
    {
     "data": {
      "image/png": "[encoded data removed]",
      "text/plain": [
       "<Figure size 432x288 with 1 Axes>"
      ]
     },
     "metadata": {},
     "output_type": "display_data"
    }
   ],
   "source": [
    "y_pred = y.copy()\n",
    "\n",
    "for i in range(len(X)):\n",
    "    if X[i] > 0:\n",
    "        y_pred[i] = np.mean(y[X > 0])\n",
    "    else:\n",
    "        y_pred[i] = np.mean(y[X < 0])\n",
    "\n",
    "plt.scatter(X, y_pred)\n",
    "plt.scatter(X, y)\n",
    "plt.xlabel('X')\n",
    "plt.ylabel('Y')"
   ]
  },
  {
   "cell_type": "markdown",
   "metadata": {},
   "source": [
    "In the decision tree algorithm, the feature and the threshold for splitting are chosen according to some criterion. The commonly used criterion for regression is based on variance: $$\\large Q(X, y, j, t) = D(X, y) - \\dfrac{|X_l|}{|X|} D(X_l, y_l) - \\dfrac{|X_r|}{|X|} D(X_r, y_r),$$\n",
    "where $\\large X$ and $\\large y$ are a feature matrix and a target vector (correspondingly) for training instances in a current node, $\\large X_l, y_l$ and $\\large X_r, y_r$ are splits of samples $\\large X, y$ into two parts w.r.t. $\\large [x_j < t]$ (by $\\large j$-th feature and threshold $\\large t$), $\\large |X|$, $\\large |X_l|$, $\\large |X_r|$ (or, the same, $\\large |y|$, $\\large |y_l|$, $\\large |y_r|$) are sizes of appropriate samples, and $\\large D(X, y)$ is variance of answers $\\large y$ for all instances in $\\large X$:\n",
    "$$\\large D(X) = \\dfrac{1}{|X|} \\sum_{j=1}^{|X|}(y_j – \\dfrac{1}{|X|}\\sum_{i = 1}^{|X|}y_i)^2$$\n",
    "Here $\\large y_i = y(x_i)$ is the answer for the $\\large x_i$ instance. Feature index $\\large j$ and threshold $\\large t$ are chosen to maximize the value of criterion  $\\large Q(X, y, j, t)$ for each split.\n",
    "\n",
    "In our 1D case,  there's only one feature so $\\large Q$ depends only on threshold $\\large t$ and training data $\\large X$ and $\\large y$. Let's designate it $\\large Q_{1d}(X, y, t)$ meaning that the criterion no longer depends on feature index $\\large j$, i.e. in 1D case $\\large j = 0$.\n",
    "\n",
    "Create the plot of criterion $\\large Q_{1d}(X, y, t)$  as a function of threshold value $t$ on the interval $[-1.9, 1.9]$."
   ]
  },
  {
   "cell_type": "code",
   "execution_count": 5,
   "metadata": {},
   "outputs": [],
   "source": [
    "# variance\n",
    "def D(X, y):\n",
    "    result = 0\n",
    "    for j in range(len(X)):\n",
    "        temp = sum(y) / len(X)\n",
    "        result += (y[j] - temp)**2\n",
    "    \n",
    "    return result / len(X)"
   ]
  },
  {
   "cell_type": "code",
   "execution_count": 6,
   "metadata": {},
   "outputs": [],
   "source": [
    "def regression_var_criterion(X, y, t):\n",
    "    XL = X[X >= t]\n",
    "    YL = y[X >= t]\n",
    "    XR = X[X < t]\n",
    "    YR = y[X < t]\n",
    "    Q = D(X, y) - (len(XL) / len(X)) * D(XL, YL) - (len(XR) / len(X)) * D(XR, YR)\n",
    "    \n",
    "    return Q"
   ]
  },
  {
   "cell_type": "code",
   "execution_count": 7,
   "metadata": {},
   "outputs": [
    {
     "data": {
      "text/plain": [
       "Text(0,0.5,'Function')"
      ]
     },
     "execution_count": 7,
     "metadata": {},
     "output_type": "execute_result"
    },
    {
     "data": {
      "image/png": "[encoded data removed]",
      "text/plain": [
       "<Figure size 432x288 with 1 Axes>"
      ]
     },
     "metadata": {},
     "output_type": "display_data"
    }
   ],
   "source": [
    "interval = np.linspace(-1.9, 1.9, 10)\n",
    "Q = [regression_var_criterion(X, y, t) for t in interval]\n",
    "\n",
    "plt.scatter(interval, Q)\n",
    "plt.xlabel('Interval')\n",
    "plt.ylabel('Function')"
   ]
  },
  {
   "cell_type": "markdown",
   "metadata": {},
   "source": [
    "**<font color='red'>Question 1.</font> Is the threshold value $t = 0$ optimal according to the variance criterion?**\n",
    "- Yes\n",
    "- No "
   ]
  },
  {
   "cell_type": "markdown",
   "metadata": {},
   "source": [
    "Then let's make splitting in each of the leaves' nodes. In the left branch (where previous split was $x < 0$) using the criterion $[x < -1.5]$, in the right branch (where previous split was $x \\geqslant 0$) with the following criterion $[x < 1.5]$. It gives us the tree of depth 2 with 7 nodes and 4 leaves. Create the plot of these tree predictions for $x \\in [-2, 2]$."
   ]
  },
  {
   "cell_type": "code",
   "execution_count": 8,
   "metadata": {},
   "outputs": [
    {
     "data": {
      "text/plain": [
       "(-10, 10)"
      ]
     },
     "execution_count": 8,
     "metadata": {},
     "output_type": "execute_result"
    },
    {
     "data": {
      "image/png": "[encoded data removed]",
      "text/plain": [
       "<Figure size 432x288 with 1 Axes>"
      ]
     },
     "metadata": {},
     "output_type": "display_data"
    }
   ],
   "source": [
    "boundary = 10\n",
    "plt.scatter(X, y)\n",
    "plt.vlines(x = 0, ymin = -boundary, ymax = boundary)\n",
    "plt.vlines(x = 1.5, ymin = -boundary, ymax = boundary)\n",
    "plt.vlines(x = -1.5, ymin = -boundary, ymax = boundary)\n",
    "plt.ylim((-boundary, boundary))"
   ]
  },
  {
   "cell_type": "markdown",
   "metadata": {},
   "source": [
    "**<font color='red'>Question 2.</font> How many segments are there on the plot of tree predictions in the interval [-2, 2] (it is necessary to count only horizontal lines)?**\n",
    "- 2\n",
    "- 3\n",
    "- 4\n",
    "- 5"
   ]
  },
  {
   "cell_type": "markdown",
   "metadata": {},
   "source": [
    "## 2. Building a decision tree for predicting heart diseases\n",
    "Let's read the data on heart diseases. The dataset can be downloaded from the course repo from [here](https://github.com/Yorko/mlcourse.ai/blob/master/data/mlbootcamp5_train.csv) by clicking on `Download` and then selecting `Save As` option.\n",
    "\n",
    "**Problem**\n",
    "\n",
    "Predict presence or absence of cardiovascular disease (CVD) using the patient examination results.\n",
    "\n",
    "**Data description**\n",
    "\n",
    "There are 3 types of input features:\n",
    "\n",
    "- *Objective*: factual information;\n",
    "- *Examination*: results of medical examination;\n",
    "- *Subjective*: information given by the patient.\n",
    "\n",
    "| Feature | Variable Type | Variable      | Value Type |\n",
    "|---------|--------------|---------------|------------|\n",
    "| Age | Objective Feature | age | int (days) |\n",
    "| Height | Objective Feature | height | int (cm) |\n",
    "| Weight | Objective Feature | weight | float (kg) |\n",
    "| Gender | Objective Feature | gender | categorical code |\n",
    "| Systolic blood pressure | Examination Feature | ap_hi | int |\n",
    "| Diastolic blood pressure | Examination Feature | ap_lo | int |\n",
    "| Cholesterol | Examination Feature | cholesterol | 1: normal, 2: above normal, 3: well above normal |\n",
    "| Glucose | Examination Feature | gluc | 1: normal, 2: above normal, 3: well above normal |\n",
    "| Smoking | Subjective Feature | smoke | binary |\n",
    "| Alcohol intake | Subjective Feature | alco | binary |\n",
    "| Physical activity | Subjective Feature | active | binary |\n",
    "| Presence or absence of cardiovascular disease | Target Variable | cardio | binary |\n",
    "\n",
    "All of the dataset values were collected at the moment of medical examination."
   ]
  },
  {
   "cell_type": "code",
   "execution_count": 9,
   "metadata": {},
   "outputs": [],
   "source": [
    "df = pd.read_csv('mlbootcamp5_train.csv', index_col='id', sep=';')"
   ]
  },
  {
   "cell_type": "code",
   "execution_count": 10,
   "metadata": {},
   "outputs": [
    {
     "data": {
      "text/html": [
       "<div>\n",
       "<style scoped>\n",
       "    .dataframe tbody tr th:only-of-type {\n",
       "        vertical-align: middle;\n",
       "    }\n",
       "\n",
       "    .dataframe tbody tr th {\n",
       "        vertical-align: top;\n",
       "    }\n",
       "\n",
       "    .dataframe thead th {\n",
       "        text-align: right;\n",
       "    }\n",
       "</style>\n",
       "<table border=\"1\" class=\"dataframe\">\n",
       "  <thead>\n",
       "    <tr style=\"text-align: right;\">\n",
       "      <th></th>\n",
       "      <th>age</th>\n",
       "      <th>gender</th>\n",
       "      <th>height</th>\n",
       "      <th>weight</th>\n",
       "      <th>ap_hi</th>\n",
       "      <th>ap_lo</th>\n",
       "      <th>cholesterol</th>\n",
       "      <th>gluc</th>\n",
       "      <th>smoke</th>\n",
       "      <th>alco</th>\n",
       "      <th>active</th>\n",
       "      <th>cardio</th>\n",
       "    </tr>\n",
       "    <tr>\n",
       "      <th>id</th>\n",
       "      <th></th>\n",
       "      <th></th>\n",
       "      <th></th>\n",
       "      <th></th>\n",
       "      <th></th>\n",
       "      <th></th>\n",
       "      <th></th>\n",
       "      <th></th>\n",
       "      <th></th>\n",
       "      <th></th>\n",
       "      <th></th>\n",
       "      <th></th>\n",
       "    </tr>\n",
       "  </thead>\n",
       "  <tbody>\n",
       "    <tr>\n",
       "      <th>0</th>\n",
       "      <td>18393</td>\n",
       "      <td>2</td>\n",
       "      <td>168</td>\n",
       "      <td>62.0</td>\n",
       "      <td>110</td>\n",
       "      <td>80</td>\n",
       "      <td>1</td>\n",
       "      <td>1</td>\n",
       "      <td>0</td>\n",
       "      <td>0</td>\n",
       "      <td>1</td>\n",
       "      <td>0</td>\n",
       "    </tr>\n",
       "    <tr>\n",
       "      <th>1</th>\n",
       "      <td>20228</td>\n",
       "      <td>1</td>\n",
       "      <td>156</td>\n",
       "      <td>85.0</td>\n",
       "      <td>140</td>\n",
       "      <td>90</td>\n",
       "      <td>3</td>\n",
       "      <td>1</td>\n",
       "      <td>0</td>\n",
       "      <td>0</td>\n",
       "      <td>1</td>\n",
       "      <td>1</td>\n",
       "    </tr>\n",
       "    <tr>\n",
       "      <th>2</th>\n",
       "      <td>18857</td>\n",
       "      <td>1</td>\n",
       "      <td>165</td>\n",
       "      <td>64.0</td>\n",
       "      <td>130</td>\n",
       "      <td>70</td>\n",
       "      <td>3</td>\n",
       "      <td>1</td>\n",
       "      <td>0</td>\n",
       "      <td>0</td>\n",
       "      <td>0</td>\n",
       "      <td>1</td>\n",
       "    </tr>\n",
       "    <tr>\n",
       "      <th>3</th>\n",
       "      <td>17623</td>\n",
       "      <td>2</td>\n",
       "      <td>169</td>\n",
       "      <td>82.0</td>\n",
       "      <td>150</td>\n",
       "      <td>100</td>\n",
       "      <td>1</td>\n",
       "      <td>1</td>\n",
       "      <td>0</td>\n",
       "      <td>0</td>\n",
       "      <td>1</td>\n",
       "      <td>1</td>\n",
       "    </tr>\n",
       "    <tr>\n",
       "      <th>4</th>\n",
       "      <td>17474</td>\n",
       "      <td>1</td>\n",
       "      <td>156</td>\n",
       "      <td>56.0</td>\n",
       "      <td>100</td>\n",
       "      <td>60</td>\n",
       "      <td>1</td>\n",
       "      <td>1</td>\n",
       "      <td>0</td>\n",
       "      <td>0</td>\n",
       "      <td>0</td>\n",
       "      <td>0</td>\n",
       "    </tr>\n",
       "  </tbody>\n",
       "</table>\n",
       "</div>"
      ],
      "text/plain": [
       "      age  gender  height  weight  ap_hi  ap_lo  cholesterol  gluc  smoke  \\\n",
       "id                                                                          \n",
       "0   18393       2     168    62.0    110     80            1     1      0   \n",
       "1   20228       1     156    85.0    140     90            3     1      0   \n",
       "2   18857       1     165    64.0    130     70            3     1      0   \n",
       "3   17623       2     169    82.0    150    100            1     1      0   \n",
       "4   17474       1     156    56.0    100     60            1     1      0   \n",
       "\n",
       "    alco  active  cardio  \n",
       "id                        \n",
       "0      0       1       0  \n",
       "1      0       1       1  \n",
       "2      0       0       1  \n",
       "3      0       1       1  \n",
       "4      0       0       0  "
      ]
     },
     "execution_count": 10,
     "metadata": {},
     "output_type": "execute_result"
    }
   ],
   "source": [
    "df.head()"
   ]
  },
  {
   "cell_type": "markdown",
   "metadata": {},
   "source": [
    "Transform the features: create \"age in years\" (full age) and also create 3 binary features based on `cholesterol` and 3 more on `gluc`, where they are equal to 1, 2 or 3. This method is called dummy-encoding or One Hot Encoding (OHE). It is more convenient to use `pandas.get_dummmies.`. There is no need to use the original features `cholesterol` and `gluc` after encoding."
   ]
  },
  {
   "cell_type": "code",
   "execution_count": 11,
   "metadata": {},
   "outputs": [
    {
     "data": {
      "text/html": [
       "<div>\n",
       "<style scoped>\n",
       "    .dataframe tbody tr th:only-of-type {\n",
       "        vertical-align: middle;\n",
       "    }\n",
       "\n",
       "    .dataframe tbody tr th {\n",
       "        vertical-align: top;\n",
       "    }\n",
       "\n",
       "    .dataframe thead th {\n",
       "        text-align: right;\n",
       "    }\n",
       "</style>\n",
       "<table border=\"1\" class=\"dataframe\">\n",
       "  <thead>\n",
       "    <tr style=\"text-align: right;\">\n",
       "      <th></th>\n",
       "      <th>age</th>\n",
       "      <th>gender</th>\n",
       "      <th>height</th>\n",
       "      <th>weight</th>\n",
       "      <th>ap_hi</th>\n",
       "      <th>ap_lo</th>\n",
       "      <th>cholesterol</th>\n",
       "      <th>gluc</th>\n",
       "      <th>smoke</th>\n",
       "      <th>alco</th>\n",
       "      <th>active</th>\n",
       "      <th>cardio</th>\n",
       "      <th>age_in_year</th>\n",
       "    </tr>\n",
       "    <tr>\n",
       "      <th>id</th>\n",
       "      <th></th>\n",
       "      <th></th>\n",
       "      <th></th>\n",
       "      <th></th>\n",
       "      <th></th>\n",
       "      <th></th>\n",
       "      <th></th>\n",
       "      <th></th>\n",
       "      <th></th>\n",
       "      <th></th>\n",
       "      <th></th>\n",
       "      <th></th>\n",
       "      <th></th>\n",
       "    </tr>\n",
       "  </thead>\n",
       "  <tbody>\n",
       "    <tr>\n",
       "      <th>0</th>\n",
       "      <td>18393</td>\n",
       "      <td>2</td>\n",
       "      <td>168</td>\n",
       "      <td>62.0</td>\n",
       "      <td>110</td>\n",
       "      <td>80</td>\n",
       "      <td>1</td>\n",
       "      <td>1</td>\n",
       "      <td>0</td>\n",
       "      <td>0</td>\n",
       "      <td>1</td>\n",
       "      <td>0</td>\n",
       "      <td>50</td>\n",
       "    </tr>\n",
       "    <tr>\n",
       "      <th>1</th>\n",
       "      <td>20228</td>\n",
       "      <td>1</td>\n",
       "      <td>156</td>\n",
       "      <td>85.0</td>\n",
       "      <td>140</td>\n",
       "      <td>90</td>\n",
       "      <td>0</td>\n",
       "      <td>1</td>\n",
       "      <td>0</td>\n",
       "      <td>0</td>\n",
       "      <td>1</td>\n",
       "      <td>1</td>\n",
       "      <td>55</td>\n",
       "    </tr>\n",
       "    <tr>\n",
       "      <th>2</th>\n",
       "      <td>18857</td>\n",
       "      <td>1</td>\n",
       "      <td>165</td>\n",
       "      <td>64.0</td>\n",
       "      <td>130</td>\n",
       "      <td>70</td>\n",
       "      <td>0</td>\n",
       "      <td>1</td>\n",
       "      <td>0</td>\n",
       "      <td>0</td>\n",
       "      <td>0</td>\n",
       "      <td>1</td>\n",
       "      <td>51</td>\n",
       "    </tr>\n",
       "    <tr>\n",
       "      <th>3</th>\n",
       "      <td>17623</td>\n",
       "      <td>2</td>\n",
       "      <td>169</td>\n",
       "      <td>82.0</td>\n",
       "      <td>150</td>\n",
       "      <td>100</td>\n",
       "      <td>1</td>\n",
       "      <td>1</td>\n",
       "      <td>0</td>\n",
       "      <td>0</td>\n",
       "      <td>1</td>\n",
       "      <td>1</td>\n",
       "      <td>48</td>\n",
       "    </tr>\n",
       "    <tr>\n",
       "      <th>4</th>\n",
       "      <td>17474</td>\n",
       "      <td>1</td>\n",
       "      <td>156</td>\n",
       "      <td>56.0</td>\n",
       "      <td>100</td>\n",
       "      <td>60</td>\n",
       "      <td>1</td>\n",
       "      <td>1</td>\n",
       "      <td>0</td>\n",
       "      <td>0</td>\n",
       "      <td>0</td>\n",
       "      <td>0</td>\n",
       "      <td>47</td>\n",
       "    </tr>\n",
       "  </tbody>\n",
       "</table>\n",
       "</div>"
      ],
      "text/plain": [
       "      age  gender  height  weight  ap_hi  ap_lo  cholesterol  gluc  smoke  \\\n",
       "id                                                                          \n",
       "0   18393       2     168    62.0    110     80            1     1      0   \n",
       "1   20228       1     156    85.0    140     90            0     1      0   \n",
       "2   18857       1     165    64.0    130     70            0     1      0   \n",
       "3   17623       2     169    82.0    150    100            1     1      0   \n",
       "4   17474       1     156    56.0    100     60            1     1      0   \n",
       "\n",
       "    alco  active  cardio  age_in_year  \n",
       "id                                     \n",
       "0      0       1       0           50  \n",
       "1      0       1       1           55  \n",
       "2      0       0       1           51  \n",
       "3      0       1       1           48  \n",
       "4      0       0       0           47  "
      ]
     },
     "execution_count": 11,
     "metadata": {},
     "output_type": "execute_result"
    }
   ],
   "source": [
    "df['age_in_year'] = df['age'].apply(lambda x: x // 365)\n",
    "df['cholesterol'] = pd.get_dummies(df.cholesterol, prefix = 'cholesterol')\n",
    "df['gluc'] = pd.get_dummies(df.gluc, prefix = 'gluc')\n",
    "df.head()"
   ]
  },
  {
   "cell_type": "markdown",
   "metadata": {},
   "source": [
    "Split data into train and holdout parts in the proportion of 7/3 using `sklearn.model_selection.train_test_split` with `random_state=17`."
   ]
  },
  {
   "cell_type": "code",
   "execution_count": 54,
   "metadata": {},
   "outputs": [
    {
     "name": "stderr",
     "output_type": "stream",
     "text": [
      "/Library/Frameworks/Python.framework/Versions/3.6/lib/python3.6/site-packages/sklearn/model_selection/_split.py:2026: FutureWarning: From version 0.21, test_size will always complement train_size unless both are specified.\n",
      "  FutureWarning)\n"
     ]
    }
   ],
   "source": [
    "X_train, X_valid, y_train, y_valid = train_test_split(df.drop('cardio', axis = 1), \\\n",
    "                                                      df.cardio, \\\n",
    "                                                      train_size = 0.7, \\\n",
    "                                                      random_state = 17)"
   ]
  },
  {
   "cell_type": "markdown",
   "metadata": {},
   "source": [
    "Train the decision tree on the dataset `(X_train, y_train)` with max depth equals to 3 and `random_state=17`. Plot this tree with `sklearn.tree.export_graphviz`, `dot` and `pydot`. You don't need to use quotes in the file names in order to make it work in a jupyter notebook. The commands starting from the exclamation mark are terminal commands that are usually run in terminal/command line."
   ]
  },
  {
   "cell_type": "code",
   "execution_count": 55,
   "metadata": {},
   "outputs": [
    {
     "data": {
      "text/plain": [
       "DecisionTreeClassifier(class_weight=None, criterion='gini', max_depth=3,\n",
       "            max_features=None, max_leaf_nodes=None,\n",
       "            min_impurity_decrease=0.0, min_impurity_split=None,\n",
       "            min_samples_leaf=1, min_samples_split=2,\n",
       "            min_weight_fraction_leaf=0.0, presort=False, random_state=17,\n",
       "            splitter='best')"
      ]
     },
     "execution_count": 55,
     "metadata": {},
     "output_type": "execute_result"
    }
   ],
   "source": [
    "model = DecisionTreeClassifier(max_depth=3, random_state=17)\n",
    "model.fit(X_train, y_train)"
   ]
  },
  {
   "cell_type": "code",
   "execution_count": 33,
   "metadata": {},
   "outputs": [
    {
     "data": {
      "text/plain": [
       "'tree.pdf'"
      ]
     },
     "execution_count": 33,
     "metadata": {},
     "output_type": "execute_result"
    }
   ],
   "source": [
    "dot_data = export_graphviz(decision_tree=model, out_file=None, \n",
    "                                        feature_names=X_train.columns, class_names=y_train.name, \n",
    "                                        filled=True, rounded=True,  special_characters=True) \n",
    "\n",
    "graph = graphviz.Source(dot_data)\n",
    "graph.render('tree')"
   ]
  },
  {
   "cell_type": "code",
   "execution_count": 34,
   "metadata": {},
   "outputs": [
    {
     "data": {
      "image/svg+xml": [
       "<?xml version=\"1.0\" encoding=\"UTF-8\" standalone=\"no\"?>\n",
       "<!DOCTYPE svg PUBLIC \"-//W3C//DTD SVG 1.1//EN\"\n",
       " \"http://www.w3.org/Graphics/SVG/1.1/DTD/svg11.dtd\">\n",
       "<!-- Generated by graphviz version 2.40.1 (20161225.0304)\n",
       " -->\n",
       "<!-- Title: Tree Pages: 1 -->\n",
       "<svg width=\"1262pt\" height=\"414pt\"\n",
       " viewBox=\"0.00 0.00 1262.49 414.00\" xmlns=\"http://www.w3.org/2000/svg\" xmlns:xlink=\"http://www.w3.org/1999/xlink\">\n",
       "<g id=\"graph0\" class=\"graph\" transform=\"scale(1 1) rotate(0) translate(4 410)\">\n",
       "<title>Tree</title>\n",
       "<polygon fill=\"#ffffff\" stroke=\"transparent\" points=\"-4,4 -4,-410 1258.4854,-410 1258.4854,4 -4,4\"/>\n",
       "<!-- 0 -->\n",
       "<g id=\"node1\" class=\"node\">\n",
       "<title>0</title>\n",
       "<path fill=\"#e58139\" fill-opacity=\"0.003922\" stroke=\"#000000\" d=\"M694.0865,-406C694.0865,-406 559.3988,-406 559.3988,-406 553.3988,-406 547.3988,-400 547.3988,-394 547.3988,-394 547.3988,-340 547.3988,-340 547.3988,-334 553.3988,-328 559.3988,-328 559.3988,-328 694.0865,-328 694.0865,-328 700.0865,-328 706.0865,-334 706.0865,-340 706.0865,-340 706.0865,-394 706.0865,-394 706.0865,-400 700.0865,-406 694.0865,-406\"/>\n",
       "<text text-anchor=\"start\" x=\"584.3667\" y=\"-390.8\" font-family=\"Helvetica,sans-Serif\" font-size=\"14.00\" fill=\"#000000\">ap_hi ≤ 129.5</text>\n",
       "<text text-anchor=\"start\" x=\"598.1377\" y=\"-376.8\" font-family=\"Helvetica,sans-Serif\" font-size=\"14.00\" fill=\"#000000\">gini = 0.5</text>\n",
       "<text text-anchor=\"start\" x=\"573.2344\" y=\"-362.8\" font-family=\"Helvetica,sans-Serif\" font-size=\"14.00\" fill=\"#000000\">samples = 49000</text>\n",
       "<text text-anchor=\"start\" x=\"555.3208\" y=\"-348.8\" font-family=\"Helvetica,sans-Serif\" font-size=\"14.00\" fill=\"#000000\">value = [24531, 24469]</text>\n",
       "<text text-anchor=\"start\" x=\"599.3169\" y=\"-334.8\" font-family=\"Helvetica,sans-Serif\" font-size=\"14.00\" fill=\"#000000\">class = c</text>\n",
       "</g>\n",
       "<!-- 1 -->\n",
       "<g id=\"node2\" class=\"node\">\n",
       "<title>1</title>\n",
       "<path fill=\"#e58139\" fill-opacity=\"0.537255\" stroke=\"#000000\" d=\"M531.3003,-292C531.3003,-292 404.185,-292 404.185,-292 398.185,-292 392.185,-286 392.185,-280 392.185,-280 392.185,-226 392.185,-226 392.185,-220 398.185,-214 404.185,-214 404.185,-214 531.3003,-214 531.3003,-214 537.3003,-214 543.3003,-220 543.3003,-226 543.3003,-226 543.3003,-280 543.3003,-280 543.3003,-286 537.3003,-292 531.3003,-292\"/>\n",
       "<text text-anchor=\"start\" x=\"423.0288\" y=\"-276.8\" font-family=\"Helvetica,sans-Serif\" font-size=\"14.00\" fill=\"#000000\">age ≤ 19931.5</text>\n",
       "<text text-anchor=\"start\" x=\"431.3516\" y=\"-262.8\" font-family=\"Helvetica,sans-Serif\" font-size=\"14.00\" fill=\"#000000\">gini = 0.433</text>\n",
       "<text text-anchor=\"start\" x=\"414.2344\" y=\"-248.8\" font-family=\"Helvetica,sans-Serif\" font-size=\"14.00\" fill=\"#000000\">samples = 28925</text>\n",
       "<text text-anchor=\"start\" x=\"400.2139\" y=\"-234.8\" font-family=\"Helvetica,sans-Serif\" font-size=\"14.00\" fill=\"#000000\">value = [19758, 9167]</text>\n",
       "<text text-anchor=\"start\" x=\"440.3169\" y=\"-220.8\" font-family=\"Helvetica,sans-Serif\" font-size=\"14.00\" fill=\"#000000\">class = c</text>\n",
       "</g>\n",
       "<!-- 0&#45;&gt;1 -->\n",
       "<g id=\"edge1\" class=\"edge\">\n",
       "<title>0&#45;&gt;1</title>\n",
       "<path fill=\"none\" stroke=\"#000000\" d=\"M572.0239,-327.7677C558.708,-318.2204 544.3615,-307.9342 530.6973,-298.1373\"/>\n",
       "<polygon fill=\"#000000\" stroke=\"#000000\" points=\"532.4593,-295.0939 522.2929,-292.1115 528.3804,-300.7828 532.4593,-295.0939\"/>\n",
       "<text text-anchor=\"middle\" x=\"526.3589\" y=\"-312.5786\" font-family=\"Helvetica,sans-Serif\" font-size=\"14.00\" fill=\"#000000\">True</text>\n",
       "</g>\n",
       "<!-- 8 -->\n",
       "<g id=\"node9\" class=\"node\">\n",
       "<title>8</title>\n",
       "<path fill=\"#399de5\" fill-opacity=\"0.686275\" stroke=\"#000000\" d=\"M851.3003,-292C851.3003,-292 724.185,-292 724.185,-292 718.185,-292 712.185,-286 712.185,-280 712.185,-280 712.185,-226 712.185,-226 712.185,-220 718.185,-214 724.185,-214 724.185,-214 851.3003,-214 851.3003,-214 857.3003,-214 863.3003,-220 863.3003,-226 863.3003,-226 863.3003,-280 863.3003,-280 863.3003,-286 857.3003,-292 851.3003,-292\"/>\n",
       "<text text-anchor=\"start\" x=\"745.3667\" y=\"-276.8\" font-family=\"Helvetica,sans-Serif\" font-size=\"14.00\" fill=\"#000000\">ap_hi ≤ 138.5</text>\n",
       "<text text-anchor=\"start\" x=\"751.3516\" y=\"-262.8\" font-family=\"Helvetica,sans-Serif\" font-size=\"14.00\" fill=\"#000000\">gini = 0.362</text>\n",
       "<text text-anchor=\"start\" x=\"734.2344\" y=\"-248.8\" font-family=\"Helvetica,sans-Serif\" font-size=\"14.00\" fill=\"#000000\">samples = 20075</text>\n",
       "<text text-anchor=\"start\" x=\"720.2139\" y=\"-234.8\" font-family=\"Helvetica,sans-Serif\" font-size=\"14.00\" fill=\"#000000\">value = [4773, 15302]</text>\n",
       "<text text-anchor=\"start\" x=\"759.9238\" y=\"-220.8\" font-family=\"Helvetica,sans-Serif\" font-size=\"14.00\" fill=\"#000000\">class = a</text>\n",
       "</g>\n",
       "<!-- 0&#45;&gt;8 -->\n",
       "<g id=\"edge8\" class=\"edge\">\n",
       "<title>0&#45;&gt;8</title>\n",
       "<path fill=\"none\" stroke=\"#000000\" d=\"M682.1497,-327.7677C695.6332,-318.2204 710.1601,-307.9342 723.9962,-298.1373\"/>\n",
       "<polygon fill=\"#000000\" stroke=\"#000000\" points=\"726.3676,-300.7467 732.5063,-292.1115 722.3225,-295.0338 726.3676,-300.7467\"/>\n",
       "<text text-anchor=\"middle\" x=\"728.2947\" y=\"-312.5541\" font-family=\"Helvetica,sans-Serif\" font-size=\"14.00\" fill=\"#000000\">False</text>\n",
       "</g>\n",
       "<!-- 2 -->\n",
       "<g id=\"node3\" class=\"node\">\n",
       "<title>2</title>\n",
       "<path fill=\"#e58139\" fill-opacity=\"0.694118\" stroke=\"#000000\" d=\"M292.3003,-178C292.3003,-178 165.185,-178 165.185,-178 159.185,-178 153.185,-172 153.185,-166 153.185,-166 153.185,-112 153.185,-112 153.185,-106 159.185,-100 165.185,-100 165.185,-100 292.3003,-100 292.3003,-100 298.3003,-100 304.3003,-106 304.3003,-112 304.3003,-112 304.3003,-166 304.3003,-166 304.3003,-172 298.3003,-178 292.3003,-178\"/>\n",
       "<text text-anchor=\"start\" x=\"177.4287\" y=\"-162.8\" font-family=\"Helvetica,sans-Serif\" font-size=\"14.00\" fill=\"#000000\">cholesterol ≤ 0.5</text>\n",
       "<text text-anchor=\"start\" x=\"192.3516\" y=\"-148.8\" font-family=\"Helvetica,sans-Serif\" font-size=\"14.00\" fill=\"#000000\">gini = 0.359</text>\n",
       "<text text-anchor=\"start\" x=\"175.2344\" y=\"-134.8\" font-family=\"Helvetica,sans-Serif\" font-size=\"14.00\" fill=\"#000000\">samples = 17715</text>\n",
       "<text text-anchor=\"start\" x=\"161.2139\" y=\"-120.8\" font-family=\"Helvetica,sans-Serif\" font-size=\"14.00\" fill=\"#000000\">value = [13555, 4160]</text>\n",
       "<text text-anchor=\"start\" x=\"201.3169\" y=\"-106.8\" font-family=\"Helvetica,sans-Serif\" font-size=\"14.00\" fill=\"#000000\">class = c</text>\n",
       "</g>\n",
       "<!-- 1&#45;&gt;2 -->\n",
       "<g id=\"edge2\" class=\"edge\">\n",
       "<title>1&#45;&gt;2</title>\n",
       "<path fill=\"none\" stroke=\"#000000\" d=\"M392.1216,-216.9297C367.1528,-205.0199 339.216,-191.6944 313.6031,-179.4774\"/>\n",
       "<polygon fill=\"#000000\" stroke=\"#000000\" points=\"314.8144,-176.1774 304.2817,-175.0312 311.8007,-182.4955 314.8144,-176.1774\"/>\n",
       "</g>\n",
       "<!-- 5 -->\n",
       "<g id=\"node6\" class=\"node\">\n",
       "<title>5</title>\n",
       "<path fill=\"#e58139\" fill-opacity=\"0.192157\" stroke=\"#000000\" d=\"M527.5144,-178C527.5144,-178 407.9709,-178 407.9709,-178 401.9709,-178 395.9709,-172 395.9709,-166 395.9709,-166 395.9709,-112 395.9709,-112 395.9709,-106 401.9709,-100 407.9709,-100 407.9709,-100 527.5144,-100 527.5144,-100 533.5144,-100 539.5144,-106 539.5144,-112 539.5144,-112 539.5144,-166 539.5144,-166 539.5144,-172 533.5144,-178 527.5144,-178\"/>\n",
       "<text text-anchor=\"start\" x=\"423.0288\" y=\"-162.8\" font-family=\"Helvetica,sans-Serif\" font-size=\"14.00\" fill=\"#000000\">age ≤ 22269.0</text>\n",
       "<text text-anchor=\"start\" x=\"431.3516\" y=\"-148.8\" font-family=\"Helvetica,sans-Serif\" font-size=\"14.00\" fill=\"#000000\">gini = 0.494</text>\n",
       "<text text-anchor=\"start\" x=\"414.7505\" y=\"-134.8\" font-family=\"Helvetica,sans-Serif\" font-size=\"14.00\" fill=\"#000000\">samples = 11210</text>\n",
       "<text text-anchor=\"start\" x=\"404.1069\" y=\"-120.8\" font-family=\"Helvetica,sans-Serif\" font-size=\"14.00\" fill=\"#000000\">value = [6203, 5007]</text>\n",
       "<text text-anchor=\"start\" x=\"440.3169\" y=\"-106.8\" font-family=\"Helvetica,sans-Serif\" font-size=\"14.00\" fill=\"#000000\">class = c</text>\n",
       "</g>\n",
       "<!-- 1&#45;&gt;5 -->\n",
       "<g id=\"edge5\" class=\"edge\">\n",
       "<title>1&#45;&gt;5</title>\n",
       "<path fill=\"none\" stroke=\"#000000\" d=\"M467.7427,-213.7677C467.7427,-205.6172 467.7427,-196.9283 467.7427,-188.4649\"/>\n",
       "<polygon fill=\"#000000\" stroke=\"#000000\" points=\"471.2428,-188.3046 467.7427,-178.3046 464.2428,-188.3047 471.2428,-188.3046\"/>\n",
       "</g>\n",
       "<!-- 3 -->\n",
       "<g id=\"node4\" class=\"node\">\n",
       "<title>3</title>\n",
       "<path fill=\"#e58139\" fill-opacity=\"0.372549\" stroke=\"#000000\" d=\"M123.7289,-64C123.7289,-64 11.7565,-64 11.7565,-64 5.7565,-64 -.2435,-58 -.2435,-52 -.2435,-52 -.2435,-12 -.2435,-12 -.2435,-6 5.7565,0 11.7565,0 11.7565,0 123.7289,0 123.7289,0 129.7289,0 135.7289,-6 135.7289,-12 135.7289,-12 135.7289,-52 135.7289,-52 135.7289,-58 129.7289,-64 123.7289,-64\"/>\n",
       "<text text-anchor=\"start\" x=\"31.3516\" y=\"-48.8\" font-family=\"Helvetica,sans-Serif\" font-size=\"14.00\" fill=\"#000000\">gini = 0.474</text>\n",
       "<text text-anchor=\"start\" x=\"18.1274\" y=\"-34.8\" font-family=\"Helvetica,sans-Serif\" font-size=\"14.00\" fill=\"#000000\">samples = 2583</text>\n",
       "<text text-anchor=\"start\" x=\"8\" y=\"-20.8\" font-family=\"Helvetica,sans-Serif\" font-size=\"14.00\" fill=\"#000000\">value = [1587, 996]</text>\n",
       "<text text-anchor=\"start\" x=\"40.3169\" y=\"-6.8\" font-family=\"Helvetica,sans-Serif\" font-size=\"14.00\" fill=\"#000000\">class = c</text>\n",
       "</g>\n",
       "<!-- 2&#45;&gt;3 -->\n",
       "<g id=\"edge3\" class=\"edge\">\n",
       "<title>2&#45;&gt;3</title>\n",
       "<path fill=\"none\" stroke=\"#000000\" d=\"M169.7064,-99.7647C154.9273,-89.9426 139.1069,-79.4284 124.444,-69.6835\"/>\n",
       "<polygon fill=\"#000000\" stroke=\"#000000\" points=\"126.2268,-66.6659 115.9611,-64.0458 122.3522,-72.4958 126.2268,-66.6659\"/>\n",
       "</g>\n",
       "<!-- 4 -->\n",
       "<g id=\"node5\" class=\"node\">\n",
       "<title>4</title>\n",
       "<path fill=\"#e58139\" fill-opacity=\"0.737255\" stroke=\"#000000\" d=\"M291.7681,-64C291.7681,-64 165.7173,-64 165.7173,-64 159.7173,-64 153.7173,-58 153.7173,-52 153.7173,-52 153.7173,-12 153.7173,-12 153.7173,-6 159.7173,0 165.7173,0 165.7173,0 291.7681,0 291.7681,0 297.7681,0 303.7681,-6 303.7681,-12 303.7681,-12 303.7681,-52 303.7681,-52 303.7681,-58 297.7681,-64 291.7681,-64\"/>\n",
       "<text text-anchor=\"start\" x=\"192.3516\" y=\"-48.8\" font-family=\"Helvetica,sans-Serif\" font-size=\"14.00\" fill=\"#000000\">gini = 0.331</text>\n",
       "<text text-anchor=\"start\" x=\"175.2344\" y=\"-34.8\" font-family=\"Helvetica,sans-Serif\" font-size=\"14.00\" fill=\"#000000\">samples = 15132</text>\n",
       "<text text-anchor=\"start\" x=\"161.73\" y=\"-20.8\" font-family=\"Helvetica,sans-Serif\" font-size=\"14.00\" fill=\"#000000\">value = [11968, 3164]</text>\n",
       "<text text-anchor=\"start\" x=\"201.3169\" y=\"-6.8\" font-family=\"Helvetica,sans-Serif\" font-size=\"14.00\" fill=\"#000000\">class = c</text>\n",
       "</g>\n",
       "<!-- 2&#45;&gt;4 -->\n",
       "<g id=\"edge4\" class=\"edge\">\n",
       "<title>2&#45;&gt;4</title>\n",
       "<path fill=\"none\" stroke=\"#000000\" d=\"M228.7427,-99.7647C228.7427,-91.4537 228.7427,-82.6472 228.7427,-74.2305\"/>\n",
       "<polygon fill=\"#000000\" stroke=\"#000000\" points=\"232.2428,-74.2168 228.7427,-64.2169 225.2428,-74.2169 232.2428,-74.2168\"/>\n",
       "</g>\n",
       "<!-- 6 -->\n",
       "<g id=\"node7\" class=\"node\">\n",
       "<title>6</title>\n",
       "<path fill=\"#e58139\" fill-opacity=\"0.317647\" stroke=\"#000000\" d=\"M453.5144,-64C453.5144,-64 333.9709,-64 333.9709,-64 327.9709,-64 321.9709,-58 321.9709,-52 321.9709,-52 321.9709,-12 321.9709,-12 321.9709,-6 327.9709,0 333.9709,0 333.9709,0 453.5144,0 453.5144,0 459.5144,0 465.5144,-6 465.5144,-12 465.5144,-12 465.5144,-52 465.5144,-52 465.5144,-58 459.5144,-64 453.5144,-64\"/>\n",
       "<text text-anchor=\"start\" x=\"357.3516\" y=\"-48.8\" font-family=\"Helvetica,sans-Serif\" font-size=\"14.00\" fill=\"#000000\">gini = 0.482</text>\n",
       "<text text-anchor=\"start\" x=\"344.1274\" y=\"-34.8\" font-family=\"Helvetica,sans-Serif\" font-size=\"14.00\" fill=\"#000000\">samples = 8218</text>\n",
       "<text text-anchor=\"start\" x=\"330.1069\" y=\"-20.8\" font-family=\"Helvetica,sans-Serif\" font-size=\"14.00\" fill=\"#000000\">value = [4888, 3330]</text>\n",
       "<text text-anchor=\"start\" x=\"366.3169\" y=\"-6.8\" font-family=\"Helvetica,sans-Serif\" font-size=\"14.00\" fill=\"#000000\">class = c</text>\n",
       "</g>\n",
       "<!-- 5&#45;&gt;6 -->\n",
       "<g id=\"edge6\" class=\"edge\">\n",
       "<title>5&#45;&gt;6</title>\n",
       "<path fill=\"none\" stroke=\"#000000\" d=\"M440.608,-99.7647C434.4812,-90.9057 427.9651,-81.4838 421.8012,-72.571\"/>\n",
       "<polygon fill=\"#000000\" stroke=\"#000000\" points=\"424.5903,-70.4507 416.0235,-64.2169 418.833,-74.4324 424.5903,-70.4507\"/>\n",
       "</g>\n",
       "<!-- 7 -->\n",
       "<g id=\"node8\" class=\"node\">\n",
       "<title>7</title>\n",
       "<path fill=\"#399de5\" fill-opacity=\"0.215686\" stroke=\"#000000\" d=\"M614.5144,-64C614.5144,-64 494.9709,-64 494.9709,-64 488.9709,-64 482.9709,-58 482.9709,-52 482.9709,-52 482.9709,-12 482.9709,-12 482.9709,-6 488.9709,0 494.9709,0 494.9709,0 614.5144,0 614.5144,0 620.5144,0 626.5144,-6 626.5144,-12 626.5144,-12 626.5144,-52 626.5144,-52 626.5144,-58 620.5144,-64 614.5144,-64\"/>\n",
       "<text text-anchor=\"start\" x=\"518.3516\" y=\"-48.8\" font-family=\"Helvetica,sans-Serif\" font-size=\"14.00\" fill=\"#000000\">gini = 0.493</text>\n",
       "<text text-anchor=\"start\" x=\"505.1274\" y=\"-34.8\" font-family=\"Helvetica,sans-Serif\" font-size=\"14.00\" fill=\"#000000\">samples = 2992</text>\n",
       "<text text-anchor=\"start\" x=\"491.1069\" y=\"-20.8\" font-family=\"Helvetica,sans-Serif\" font-size=\"14.00\" fill=\"#000000\">value = [1315, 1677]</text>\n",
       "<text text-anchor=\"start\" x=\"526.9238\" y=\"-6.8\" font-family=\"Helvetica,sans-Serif\" font-size=\"14.00\" fill=\"#000000\">class = a</text>\n",
       "</g>\n",
       "<!-- 5&#45;&gt;7 -->\n",
       "<g id=\"edge7\" class=\"edge\">\n",
       "<title>5&#45;&gt;7</title>\n",
       "<path fill=\"none\" stroke=\"#000000\" d=\"M499.6443,-99.7647C506.9959,-90.7231 514.8243,-81.095 522.2027,-72.0204\"/>\n",
       "<polygon fill=\"#000000\" stroke=\"#000000\" points=\"524.9546,-74.1839 528.5476,-64.2169 519.5233,-69.7678 524.9546,-74.1839\"/>\n",
       "</g>\n",
       "<!-- 9 -->\n",
       "<g id=\"node10\" class=\"node\">\n",
       "<title>9</title>\n",
       "<path fill=\"#399de5\" fill-opacity=\"0.345098\" stroke=\"#000000\" d=\"M847.5144,-178C847.5144,-178 727.9709,-178 727.9709,-178 721.9709,-178 715.9709,-172 715.9709,-166 715.9709,-166 715.9709,-112 715.9709,-112 715.9709,-106 721.9709,-100 727.9709,-100 727.9709,-100 847.5144,-100 847.5144,-100 853.5144,-100 859.5144,-106 859.5144,-112 859.5144,-112 859.5144,-166 859.5144,-166 859.5144,-172 853.5144,-178 847.5144,-178\"/>\n",
       "<text text-anchor=\"start\" x=\"736.4287\" y=\"-162.8\" font-family=\"Helvetica,sans-Serif\" font-size=\"14.00\" fill=\"#000000\">cholesterol ≤ 0.5</text>\n",
       "<text text-anchor=\"start\" x=\"751.3516\" y=\"-148.8\" font-family=\"Helvetica,sans-Serif\" font-size=\"14.00\" fill=\"#000000\">gini = 0.478</text>\n",
       "<text text-anchor=\"start\" x=\"738.1274\" y=\"-134.8\" font-family=\"Helvetica,sans-Serif\" font-size=\"14.00\" fill=\"#000000\">samples = 6522</text>\n",
       "<text text-anchor=\"start\" x=\"724.1069\" y=\"-120.8\" font-family=\"Helvetica,sans-Serif\" font-size=\"14.00\" fill=\"#000000\">value = [2580, 3942]</text>\n",
       "<text text-anchor=\"start\" x=\"759.9238\" y=\"-106.8\" font-family=\"Helvetica,sans-Serif\" font-size=\"14.00\" fill=\"#000000\">class = a</text>\n",
       "</g>\n",
       "<!-- 8&#45;&gt;9 -->\n",
       "<g id=\"edge9\" class=\"edge\">\n",
       "<title>8&#45;&gt;9</title>\n",
       "<path fill=\"none\" stroke=\"#000000\" d=\"M787.7427,-213.7677C787.7427,-205.6172 787.7427,-196.9283 787.7427,-188.4649\"/>\n",
       "<polygon fill=\"#000000\" stroke=\"#000000\" points=\"791.2428,-188.3046 787.7427,-178.3046 784.2428,-188.3047 791.2428,-188.3046\"/>\n",
       "</g>\n",
       "<!-- 12 -->\n",
       "<g id=\"node13\" class=\"node\">\n",
       "<title>12</title>\n",
       "<path fill=\"#399de5\" fill-opacity=\"0.807843\" stroke=\"#000000\" d=\"M1092.7681,-178C1092.7681,-178 966.7173,-178 966.7173,-178 960.7173,-178 954.7173,-172 954.7173,-166 954.7173,-166 954.7173,-112 954.7173,-112 954.7173,-106 960.7173,-100 966.7173,-100 966.7173,-100 1092.7681,-100 1092.7681,-100 1098.7681,-100 1104.7681,-106 1104.7681,-112 1104.7681,-112 1104.7681,-166 1104.7681,-166 1104.7681,-172 1098.7681,-178 1092.7681,-178\"/>\n",
       "<text text-anchor=\"start\" x=\"987.3667\" y=\"-162.8\" font-family=\"Helvetica,sans-Serif\" font-size=\"14.00\" fill=\"#000000\">ap_hi ≤ 149.5</text>\n",
       "<text text-anchor=\"start\" x=\"993.3516\" y=\"-148.8\" font-family=\"Helvetica,sans-Serif\" font-size=\"14.00\" fill=\"#000000\">gini = 0.271</text>\n",
       "<text text-anchor=\"start\" x=\"976.2344\" y=\"-134.8\" font-family=\"Helvetica,sans-Serif\" font-size=\"14.00\" fill=\"#000000\">samples = 13553</text>\n",
       "<text text-anchor=\"start\" x=\"962.73\" y=\"-120.8\" font-family=\"Helvetica,sans-Serif\" font-size=\"14.00\" fill=\"#000000\">value = [2193, 11360]</text>\n",
       "<text text-anchor=\"start\" x=\"1001.9238\" y=\"-106.8\" font-family=\"Helvetica,sans-Serif\" font-size=\"14.00\" fill=\"#000000\">class = a</text>\n",
       "</g>\n",
       "<!-- 8&#45;&gt;12 -->\n",
       "<g id=\"edge12\" class=\"edge\">\n",
       "<title>8&#45;&gt;12</title>\n",
       "<path fill=\"none\" stroke=\"#000000\" d=\"M863.3175,-217.3986C889.2453,-205.1847 918.4282,-191.4374 945.032,-178.905\"/>\n",
       "<polygon fill=\"#000000\" stroke=\"#000000\" points=\"946.7701,-181.9552 954.325,-174.5273 943.7869,-175.6227 946.7701,-181.9552\"/>\n",
       "</g>\n",
       "<!-- 10 -->\n",
       "<g id=\"node11\" class=\"node\">\n",
       "<title>10</title>\n",
       "<path fill=\"#399de5\" fill-opacity=\"0.600000\" stroke=\"#000000\" d=\"M767.7289,-64C767.7289,-64 655.7565,-64 655.7565,-64 649.7565,-64 643.7565,-58 643.7565,-52 643.7565,-52 643.7565,-12 643.7565,-12 643.7565,-6 649.7565,0 655.7565,0 655.7565,0 767.7289,0 767.7289,0 773.7289,0 779.7289,-6 779.7289,-12 779.7289,-12 779.7289,-52 779.7289,-52 779.7289,-58 773.7289,-64 767.7289,-64\"/>\n",
       "<text text-anchor=\"start\" x=\"675.3516\" y=\"-48.8\" font-family=\"Helvetica,sans-Serif\" font-size=\"14.00\" fill=\"#000000\">gini = 0.408</text>\n",
       "<text text-anchor=\"start\" x=\"662.1274\" y=\"-34.8\" font-family=\"Helvetica,sans-Serif\" font-size=\"14.00\" fill=\"#000000\">samples = 2207</text>\n",
       "<text text-anchor=\"start\" x=\"652\" y=\"-20.8\" font-family=\"Helvetica,sans-Serif\" font-size=\"14.00\" fill=\"#000000\">value = [629, 1578]</text>\n",
       "<text text-anchor=\"start\" x=\"683.9238\" y=\"-6.8\" font-family=\"Helvetica,sans-Serif\" font-size=\"14.00\" fill=\"#000000\">class = a</text>\n",
       "</g>\n",
       "<!-- 9&#45;&gt;10 -->\n",
       "<g id=\"edge10\" class=\"edge\">\n",
       "<title>9&#45;&gt;10</title>\n",
       "<path fill=\"none\" stroke=\"#000000\" d=\"M759.8746,-99.7647C753.5823,-90.9057 746.89,-81.4838 740.5595,-72.571\"/>\n",
       "<polygon fill=\"#000000\" stroke=\"#000000\" points=\"743.2699,-70.3429 734.6257,-64.2169 737.563,-74.3964 743.2699,-70.3429\"/>\n",
       "</g>\n",
       "<!-- 11 -->\n",
       "<g id=\"node12\" class=\"node\">\n",
       "<title>11</title>\n",
       "<path fill=\"#399de5\" fill-opacity=\"0.176471\" stroke=\"#000000\" d=\"M928.5144,-64C928.5144,-64 808.9709,-64 808.9709,-64 802.9709,-64 796.9709,-58 796.9709,-52 796.9709,-52 796.9709,-12 796.9709,-12 796.9709,-6 802.9709,0 808.9709,0 808.9709,0 928.5144,0 928.5144,0 934.5144,0 940.5144,-6 940.5144,-12 940.5144,-12 940.5144,-52 940.5144,-52 940.5144,-58 934.5144,-64 928.5144,-64\"/>\n",
       "<text text-anchor=\"start\" x=\"832.3516\" y=\"-48.8\" font-family=\"Helvetica,sans-Serif\" font-size=\"14.00\" fill=\"#000000\">gini = 0.495</text>\n",
       "<text text-anchor=\"start\" x=\"819.1274\" y=\"-34.8\" font-family=\"Helvetica,sans-Serif\" font-size=\"14.00\" fill=\"#000000\">samples = 4315</text>\n",
       "<text text-anchor=\"start\" x=\"805.1069\" y=\"-20.8\" font-family=\"Helvetica,sans-Serif\" font-size=\"14.00\" fill=\"#000000\">value = [1951, 2364]</text>\n",
       "<text text-anchor=\"start\" x=\"840.9238\" y=\"-6.8\" font-family=\"Helvetica,sans-Serif\" font-size=\"14.00\" fill=\"#000000\">class = a</text>\n",
       "</g>\n",
       "<!-- 9&#45;&gt;11 -->\n",
       "<g id=\"edge11\" class=\"edge\">\n",
       "<title>9&#45;&gt;11</title>\n",
       "<path fill=\"none\" stroke=\"#000000\" d=\"M817.4441,-99.7647C824.2196,-90.8144 831.4301,-81.2894 838.2386,-72.2955\"/>\n",
       "<polygon fill=\"#000000\" stroke=\"#000000\" points=\"841.109,-74.3025 844.3542,-64.2169 835.5279,-70.0775 841.109,-74.3025\"/>\n",
       "</g>\n",
       "<!-- 13 -->\n",
       "<g id=\"node14\" class=\"node\">\n",
       "<title>13</title>\n",
       "<path fill=\"#399de5\" fill-opacity=\"0.772549\" stroke=\"#000000\" d=\"M1089.5144,-64C1089.5144,-64 969.9709,-64 969.9709,-64 963.9709,-64 957.9709,-58 957.9709,-52 957.9709,-52 957.9709,-12 957.9709,-12 957.9709,-6 963.9709,0 969.9709,0 969.9709,0 1089.5144,0 1089.5144,0 1095.5144,0 1101.5144,-6 1101.5144,-12 1101.5144,-12 1101.5144,-52 1101.5144,-52 1101.5144,-58 1095.5144,-64 1089.5144,-64\"/>\n",
       "<text text-anchor=\"start\" x=\"993.3516\" y=\"-48.8\" font-family=\"Helvetica,sans-Serif\" font-size=\"14.00\" fill=\"#000000\">gini = 0.301</text>\n",
       "<text text-anchor=\"start\" x=\"980.1274\" y=\"-34.8\" font-family=\"Helvetica,sans-Serif\" font-size=\"14.00\" fill=\"#000000\">samples = 6864</text>\n",
       "<text text-anchor=\"start\" x=\"966.1069\" y=\"-20.8\" font-family=\"Helvetica,sans-Serif\" font-size=\"14.00\" fill=\"#000000\">value = [1267, 5597]</text>\n",
       "<text text-anchor=\"start\" x=\"1001.9238\" y=\"-6.8\" font-family=\"Helvetica,sans-Serif\" font-size=\"14.00\" fill=\"#000000\">class = a</text>\n",
       "</g>\n",
       "<!-- 12&#45;&gt;13 -->\n",
       "<g id=\"edge13\" class=\"edge\">\n",
       "<title>12&#45;&gt;13</title>\n",
       "<path fill=\"none\" stroke=\"#000000\" d=\"M1029.7427,-99.7647C1029.7427,-91.4537 1029.7427,-82.6472 1029.7427,-74.2305\"/>\n",
       "<polygon fill=\"#000000\" stroke=\"#000000\" points=\"1033.2428,-74.2168 1029.7427,-64.2169 1026.2428,-74.2169 1033.2428,-74.2168\"/>\n",
       "</g>\n",
       "<!-- 14 -->\n",
       "<g id=\"node15\" class=\"node\">\n",
       "<title>14</title>\n",
       "<path fill=\"#399de5\" fill-opacity=\"0.839216\" stroke=\"#000000\" d=\"M1242.7289,-64C1242.7289,-64 1130.7565,-64 1130.7565,-64 1124.7565,-64 1118.7565,-58 1118.7565,-52 1118.7565,-52 1118.7565,-12 1118.7565,-12 1118.7565,-6 1124.7565,0 1130.7565,0 1130.7565,0 1242.7289,0 1242.7289,0 1248.7289,0 1254.7289,-6 1254.7289,-12 1254.7289,-12 1254.7289,-52 1254.7289,-52 1254.7289,-58 1248.7289,-64 1242.7289,-64\"/>\n",
       "<text text-anchor=\"start\" x=\"1150.3516\" y=\"-48.8\" font-family=\"Helvetica,sans-Serif\" font-size=\"14.00\" fill=\"#000000\">gini = 0.239</text>\n",
       "<text text-anchor=\"start\" x=\"1137.1274\" y=\"-34.8\" font-family=\"Helvetica,sans-Serif\" font-size=\"14.00\" fill=\"#000000\">samples = 6689</text>\n",
       "<text text-anchor=\"start\" x=\"1127\" y=\"-20.8\" font-family=\"Helvetica,sans-Serif\" font-size=\"14.00\" fill=\"#000000\">value = [926, 5763]</text>\n",
       "<text text-anchor=\"start\" x=\"1158.9238\" y=\"-6.8\" font-family=\"Helvetica,sans-Serif\" font-size=\"14.00\" fill=\"#000000\">class = a</text>\n",
       "</g>\n",
       "<!-- 12&#45;&gt;14 -->\n",
       "<g id=\"edge14\" class=\"edge\">\n",
       "<title>12&#45;&gt;14</title>\n",
       "<path fill=\"none\" stroke=\"#000000\" d=\"M1087.3122,-99.7647C1101.7241,-89.9426 1117.1515,-79.4284 1131.4501,-69.6835\"/>\n",
       "<polygon fill=\"#000000\" stroke=\"#000000\" points=\"1133.43,-72.5697 1139.7223,-64.0458 1129.4877,-66.7853 1133.43,-72.5697\"/>\n",
       "</g>\n",
       "</g>\n",
       "</svg>\n"
      ],
      "text/plain": [
       "<graphviz.files.Source at 0x1166c3048>"
      ]
     },
     "execution_count": 34,
     "metadata": {},
     "output_type": "execute_result"
    }
   ],
   "source": [
    "dot_data = export_graphviz(decision_tree=model, out_file=None, \n",
    "                                        feature_names=X_train.columns, class_names=y_train.name, \n",
    "                                        filled=True, rounded=True,  special_characters=True) \n",
    "\n",
    "graph = graphviz.Source(dot_data)"
   ]
  },
  {
   "cell_type": "markdown",
   "metadata": {},
   "source": [
    "**<font color='red'>Question 3.</font> What 3 features are used to make predictions in the created decision tree?**\n",
    "- weight, height, gluc=3\n",
    "- smoke, age, gluc=3\n",
    "- age, weight, chol=3\n",
    "- age, ap_hi, chol=3"
   ]
  },
  {
   "cell_type": "markdown",
   "metadata": {},
   "source": [
    "Make predictions for holdout data `(X_valid, y_valid)` with the trained decision tree. Calculate accuracy."
   ]
  },
  {
   "cell_type": "code",
   "execution_count": 56,
   "metadata": {},
   "outputs": [
    {
     "name": "stdout",
     "output_type": "stream",
     "text": [
      "Accuracy: 0.718047619047619\n"
     ]
    }
   ],
   "source": [
    "y_pred = model.predict(X_valid)\n",
    "acc1 = accuracy_score(y_true=y_valid, y_pred=y_pred)\n",
    "\n",
    "print('Accuracy: {}'.format(acc1))"
   ]
  },
  {
   "cell_type": "markdown",
   "metadata": {},
   "source": [
    "Set up the depth of the tree using cross-validation on the dataset `(X_train, y_train)` in order to increase quality of the model. Use `GridSearchCV` with 5 folds. Fix `random_state=17` and change  `max_depth` from 2 to 10."
   ]
  },
  {
   "cell_type": "code",
   "execution_count": 57,
   "metadata": {},
   "outputs": [
    {
     "name": "stdout",
     "output_type": "stream",
     "text": [
      "CPU times: user 3.1 s, sys: 109 ms, total: 3.2 s\n",
      "Wall time: 3.2 s\n"
     ]
    }
   ],
   "source": [
    "%%time\n",
    "tree_params = {'max_depth': list(range(2, 11))}\n",
    "\n",
    "model = DecisionTreeClassifier(random_state=17)\n",
    "tree_grid = GridSearchCV(estimator=model, param_grid=tree_params, cv = 5)\n",
    "tree_grid.fit(X_train, y_train)"
   ]
  },
  {
   "cell_type": "markdown",
   "metadata": {},
   "source": [
    "Draw the plot to show how mean accuracy is changing in regards to `max_depth` value on cross-validation."
   ]
  },
  {
   "cell_type": "code",
   "execution_count": 60,
   "metadata": {},
   "outputs": [
    {
     "name": "stdout",
     "output_type": "stream",
     "text": [
      "Index(['mean_fit_time', 'mean_score_time', 'mean_test_score',\n",
      "       'mean_train_score', 'param_max_depth', 'params', 'rank_test_score',\n",
      "       'split0_test_score', 'split0_train_score', 'split1_test_score',\n",
      "       'split1_train_score', 'split2_test_score', 'split2_train_score',\n",
      "       'split3_test_score', 'split3_train_score', 'split4_test_score',\n",
      "       'split4_train_score', 'std_fit_time', 'std_score_time',\n",
      "       'std_test_score', 'std_train_score'],\n",
      "      dtype='object')\n"
     ]
    },
    {
     "name": "stderr",
     "output_type": "stream",
     "text": [
      "/Library/Frameworks/Python.framework/Versions/3.6/lib/python3.6/site-packages/sklearn/utils/deprecation.py:122: FutureWarning: You are accessing a training score ('mean_train_score'), which will not be available by default any more in 0.21. If you need training scores, please set return_train_score=True\n",
      "  warnings.warn(*warn_args, **warn_kwargs)\n",
      "/Library/Frameworks/Python.framework/Versions/3.6/lib/python3.6/site-packages/sklearn/utils/deprecation.py:122: FutureWarning: You are accessing a training score ('split0_train_score'), which will not be available by default any more in 0.21. If you need training scores, please set return_train_score=True\n",
      "  warnings.warn(*warn_args, **warn_kwargs)\n",
      "/Library/Frameworks/Python.framework/Versions/3.6/lib/python3.6/site-packages/sklearn/utils/deprecation.py:122: FutureWarning: You are accessing a training score ('split1_train_score'), which will not be available by default any more in 0.21. If you need training scores, please set return_train_score=True\n",
      "  warnings.warn(*warn_args, **warn_kwargs)\n",
      "/Library/Frameworks/Python.framework/Versions/3.6/lib/python3.6/site-packages/sklearn/utils/deprecation.py:122: FutureWarning: You are accessing a training score ('split2_train_score'), which will not be available by default any more in 0.21. If you need training scores, please set return_train_score=True\n",
      "  warnings.warn(*warn_args, **warn_kwargs)\n",
      "/Library/Frameworks/Python.framework/Versions/3.6/lib/python3.6/site-packages/sklearn/utils/deprecation.py:122: FutureWarning: You are accessing a training score ('split3_train_score'), which will not be available by default any more in 0.21. If you need training scores, please set return_train_score=True\n",
      "  warnings.warn(*warn_args, **warn_kwargs)\n",
      "/Library/Frameworks/Python.framework/Versions/3.6/lib/python3.6/site-packages/sklearn/utils/deprecation.py:122: FutureWarning: You are accessing a training score ('split4_train_score'), which will not be available by default any more in 0.21. If you need training scores, please set return_train_score=True\n",
      "  warnings.warn(*warn_args, **warn_kwargs)\n",
      "/Library/Frameworks/Python.framework/Versions/3.6/lib/python3.6/site-packages/sklearn/utils/deprecation.py:122: FutureWarning: You are accessing a training score ('std_train_score'), which will not be available by default any more in 0.21. If you need training scores, please set return_train_score=True\n",
      "  warnings.warn(*warn_args, **warn_kwargs)\n"
     ]
    },
    {
     "data": {
      "text/plain": [
       "<matplotlib.collections.PathCollection at 0x11bf93400>"
      ]
     },
     "execution_count": 60,
     "metadata": {},
     "output_type": "execute_result"
    },
    {
     "data": {
      "image/png": "[encoded data removed]",
      "text/plain": [
       "<Figure size 432x288 with 1 Axes>"
      ]
     },
     "metadata": {},
     "output_type": "display_data"
    }
   ],
   "source": [
    "cv_result = pd.DataFrame(tree_grid.cv_results_)\n",
    "\n",
    "print(cv_result.columns)\n",
    "\n",
    "plt.scatter(x=cv_result.param_max_depth,y=cv_result.mean_test_score)"
   ]
  },
  {
   "cell_type": "markdown",
   "metadata": {},
   "source": [
    "Print the best value of `max_depth` where the mean value of cross-validation quality metric reaches maximum. Also compute accuracy on holdout data. All these computations are possible to make using the trained instance of the class `GridSearchCV`."
   ]
  },
  {
   "cell_type": "code",
   "execution_count": 61,
   "metadata": {},
   "outputs": [
    {
     "data": {
      "text/plain": [
       "5"
      ]
     },
     "execution_count": 61,
     "metadata": {},
     "output_type": "execute_result"
    }
   ],
   "source": [
    "cv_result['param_max_depth'][cv_result['mean_test_score'].idxmax()]"
   ]
  },
  {
   "cell_type": "code",
   "execution_count": 62,
   "metadata": {},
   "outputs": [
    {
     "name": "stdout",
     "output_type": "stream",
     "text": [
      "Accuracy: 0.725047619047619\n"
     ]
    }
   ],
   "source": [
    "y_pred = tree_grid.predict(X_valid)\n",
    "acc2 = accuracy_score(y_true=y_valid, y_pred=y_pred)\n",
    "\n",
    "print('Accuracy: {}'.format(acc2))"
   ]
  },
  {
   "cell_type": "code",
   "execution_count": 69,
   "metadata": {},
   "outputs": [
    {
     "data": {
      "text/plain": [
       "0.9748657072750191"
      ]
     },
     "execution_count": 69,
     "metadata": {},
     "output_type": "execute_result"
    }
   ],
   "source": [
    "print((acc2 - acc1) / acc1 * 100.)"
   ]
  },
  {
   "cell_type": "markdown",
   "metadata": {},
   "source": [
    "**<font color='red'>Question 4.</font> Is there a local maximum of accuracy on the built validation curve? Did `GridSearchCV` help to tune `max_depth` so that there's been at least 1% change in holdout accuracy?**\n",
    "(check out the expression (acc2 - acc1) / acc1 * 100%, where acc1 and acc2 are accuracies on holdout data before and after tuning `max_depth` with `GridSearchCV` respectively)?\n",
    "- yes, yes\n",
    "- yes, no \n",
    "- no, yes\n",
    "- no, no"
   ]
  },
  {
   "cell_type": "markdown",
   "metadata": {},
   "source": [
    "Take a look at the SCORE table to estimate ten-year risk of fatal cardiovascular disease in Europe. [Source paper](https://academic.oup.com/eurheartj/article/24/11/987/427645).\n",
    "\n",
    "<img src='../../img/SCORE2007-eng.png' width=70%>\n",
    "\n",
    "Create binary features according to this picture:\n",
    "- $age \\in [40,50), \\ldots age \\in [60,65) $ (4 features)\n",
    "- systolic blood pressure: $ap\\_hi \\in [120,140), ap\\_hi \\in [140,160), ap\\_hi \\in [160,180),$ (3 features)\n",
    "\n",
    "If the values of age or blood pressure don't fall into any of the intervals then all binary features will be equal to zero. Then we create decision tree with these features and additional ``smoke``, ``cholesterol``  and ``gender`` features. Transform the ``cholesterol`` to 3 binary features according to it's 3 unique values ( ``cholesterol``=1,  ``cholesterol``=2 and  ``cholesterol``=3). This method is called dummy-encoding or One Hot Encoding (OHE). Transform the ``gender`` from 1 and 2 into 0 and 1. It is better to rename it to ``male`` (0 – woman, 1 – man). In general, this is typically done with ``sklearn.preprocessing.LabelEncoder`` but here in case of only 2 unique values it's not necessary.\n",
    "\n",
    "Finally the decision tree is built using 12 binary features (without original features).\n",
    "\n",
    "Create a decision tree with the limitation `max_depth=3` and train it on the whole train data. Use the `DecisionTreeClassifier` class with fixed `random_state=17`, but all other arguments (except for `max_depth` and `random_state`) should be set by default.\n",
    "\n",
    "**<font color='red'>Question 5.</font> What binary feature is the most important for heart disease detection (it is placed in the root of the tree)?**\n",
    "- Systolic blood pressure from 160 to 180 (mmHg)\n",
    "- Gender male / female\n",
    "- Systolic blood pressure from 140 to 160 (mmHg)\n",
    "- Age from 50 to 55 (years)\n",
    "- Smokes / doesn't smoke\n",
    "- Age from 60 to 65 (years)"
   ]
  },
  {
   "cell_type": "code",
   "execution_count": 72,
   "metadata": {},
   "outputs": [],
   "source": [
    "age_binary = pd.get_dummies(pd.cut(df.age_in_year, bins=[40,50,55,60,65], right=False), prefix='age')\n",
    "ap_hi_binary = pd.get_dummies(pd.cut(df.ap_hi, bins=[120,140,160,180], right=False), prefix='ap_hi')\n",
    "cholesterol_binary = pd.get_dummies(df.cholesterol, prefix='cholesterol')\n",
    "male = df['gender'].apply(lambda x: 0 if x == 1 else 1)"
   ]
  },
  {
   "cell_type": "code",
   "execution_count": 73,
   "metadata": {},
   "outputs": [
    {
     "data": {
      "text/plain": [
       "DecisionTreeClassifier(class_weight=None, criterion='gini', max_depth=3,\n",
       "            max_features=None, max_leaf_nodes=None,\n",
       "            min_impurity_decrease=0.0, min_impurity_split=None,\n",
       "            min_samples_leaf=1, min_samples_split=2,\n",
       "            min_weight_fraction_leaf=0.0, presort=False, random_state=17,\n",
       "            splitter='best')"
      ]
     },
     "execution_count": 73,
     "metadata": {},
     "output_type": "execute_result"
    }
   ],
   "source": [
    "X_train_new = pd.concat([age_binary,ap_hi_binary,cholesterol_binary,male,df.smoke], axis=1)\n",
    "y_train_new = df.cardio\n",
    "\n",
    "model_new = DecisionTreeClassifier(max_depth=3, random_state=17)\n",
    "model_new.fit(X_train_new, y_train_new)"
   ]
  },
  {
   "cell_type": "code",
   "execution_count": 78,
   "metadata": {},
   "outputs": [
    {
     "data": {
      "text/plain": [
       "'tree2.pdf'"
      ]
     },
     "execution_count": 78,
     "metadata": {},
     "output_type": "execute_result"
    }
   ],
   "source": [
    "dot_data = export_graphviz(decision_tree=model_new, out_file=None, \n",
    "                                        feature_names=X_train_new.columns, class_names=y_train_new.name, \n",
    "                                        filled=True, rounded=True,  special_characters=True)\n",
    "graph2 = graphviz.Source(dot_data)  \n",
    "graph2.render('tree2')"
   ]
  },
  {
   "cell_type": "code",
   "execution_count": 79,
   "metadata": {},
   "outputs": [
    {
     "data": {
      "image/svg+xml": [
       "<?xml version=\"1.0\" encoding=\"UTF-8\" standalone=\"no\"?>\n",
       "<!DOCTYPE svg PUBLIC \"-//W3C//DTD SVG 1.1//EN\"\n",
       " \"http://www.w3.org/Graphics/SVG/1.1/DTD/svg11.dtd\">\n",
       "<!-- Generated by graphviz version 2.40.1 (20161225.0304)\n",
       " -->\n",
       "<!-- Title: Tree Pages: 1 -->\n",
       "<svg width=\"1240pt\" height=\"414pt\"\n",
       " viewBox=\"0.00 0.00 1240.38 414.00\" xmlns=\"http://www.w3.org/2000/svg\" xmlns:xlink=\"http://www.w3.org/1999/xlink\">\n",
       "<g id=\"graph0\" class=\"graph\" transform=\"scale(1 1) rotate(0) translate(4 410)\">\n",
       "<title>Tree</title>\n",
       "<polygon fill=\"#ffffff\" stroke=\"transparent\" points=\"-4,4 -4,-410 1236.3784,-410 1236.3784,4 -4,4\"/>\n",
       "<!-- 0 -->\n",
       "<g id=\"node1\" class=\"node\">\n",
       "<title>0</title>\n",
       "<path fill=\"transparent\" stroke=\"#000000\" d=\"M682.9796,-406C682.9796,-406 548.2919,-406 548.2919,-406 542.2919,-406 536.2919,-400 536.2919,-394 536.2919,-394 536.2919,-340 536.2919,-340 536.2919,-334 542.2919,-328 548.2919,-328 548.2919,-328 682.9796,-328 682.9796,-328 688.9796,-328 694.9796,-334 694.9796,-340 694.9796,-340 694.9796,-394 694.9796,-394 694.9796,-400 688.9796,-406 682.9796,-406\"/>\n",
       "<text text-anchor=\"start\" x=\"545.6289\" y=\"-390.8\" font-family=\"Helvetica,sans-Serif\" font-size=\"14.00\" fill=\"#000000\">ap_hi_[140, 160) ≤ 0.5</text>\n",
       "<text text-anchor=\"start\" x=\"587.0308\" y=\"-376.8\" font-family=\"Helvetica,sans-Serif\" font-size=\"14.00\" fill=\"#000000\">gini = 0.5</text>\n",
       "<text text-anchor=\"start\" x=\"562.1274\" y=\"-362.8\" font-family=\"Helvetica,sans-Serif\" font-size=\"14.00\" fill=\"#000000\">samples = 70000</text>\n",
       "<text text-anchor=\"start\" x=\"544.2139\" y=\"-348.8\" font-family=\"Helvetica,sans-Serif\" font-size=\"14.00\" fill=\"#000000\">value = [35021, 34979]</text>\n",
       "<text text-anchor=\"start\" x=\"588.21\" y=\"-334.8\" font-family=\"Helvetica,sans-Serif\" font-size=\"14.00\" fill=\"#000000\">class = c</text>\n",
       "</g>\n",
       "<!-- 1 -->\n",
       "<g id=\"node2\" class=\"node\">\n",
       "<title>1</title>\n",
       "<path fill=\"#e58139\" fill-opacity=\"0.294118\" stroke=\"#000000\" d=\"M534.9796,-292C534.9796,-292 400.2919,-292 400.2919,-292 394.2919,-292 388.2919,-286 388.2919,-280 388.2919,-280 388.2919,-226 388.2919,-226 388.2919,-220 394.2919,-214 400.2919,-214 400.2919,-214 534.9796,-214 534.9796,-214 540.9796,-214 546.9796,-220 546.9796,-226 546.9796,-226 546.9796,-280 546.9796,-280 546.9796,-286 540.9796,-292 534.9796,-292\"/>\n",
       "<text text-anchor=\"start\" x=\"397.6289\" y=\"-276.8\" font-family=\"Helvetica,sans-Serif\" font-size=\"14.00\" fill=\"#000000\">ap_hi_[160, 180) ≤ 0.5</text>\n",
       "<text text-anchor=\"start\" x=\"431.2446\" y=\"-262.8\" font-family=\"Helvetica,sans-Serif\" font-size=\"14.00\" fill=\"#000000\">gini = 0.485</text>\n",
       "<text text-anchor=\"start\" x=\"414.1274\" y=\"-248.8\" font-family=\"Helvetica,sans-Serif\" font-size=\"14.00\" fill=\"#000000\">samples = 55564</text>\n",
       "<text text-anchor=\"start\" x=\"396.2139\" y=\"-234.8\" font-family=\"Helvetica,sans-Serif\" font-size=\"14.00\" fill=\"#000000\">value = [32557, 23007]</text>\n",
       "<text text-anchor=\"start\" x=\"440.21\" y=\"-220.8\" font-family=\"Helvetica,sans-Serif\" font-size=\"14.00\" fill=\"#000000\">class = c</text>\n",
       "</g>\n",
       "<!-- 0&#45;&gt;1 -->\n",
       "<g id=\"edge1\" class=\"edge\">\n",
       "<title>0&#45;&gt;1</title>\n",
       "<path fill=\"none\" stroke=\"#000000\" d=\"M564.7025,-327.7677C552.4248,-318.3105 539.2057,-308.1282 526.5951,-298.4147\"/>\n",
       "<polygon fill=\"#000000\" stroke=\"#000000\" points=\"528.4701,-295.441 518.412,-292.1115 524.1985,-300.9866 528.4701,-295.441\"/>\n",
       "<text text-anchor=\"middle\" x=\"521.6293\" y=\"-312.7036\" font-family=\"Helvetica,sans-Serif\" font-size=\"14.00\" fill=\"#000000\">True</text>\n",
       "</g>\n",
       "<!-- 8 -->\n",
       "<g id=\"node9\" class=\"node\">\n",
       "<title>8</title>\n",
       "<path fill=\"#399de5\" fill-opacity=\"0.796078\" stroke=\"#000000\" d=\"M840.6611,-292C840.6611,-292 714.6103,-292 714.6103,-292 708.6103,-292 702.6103,-286 702.6103,-280 702.6103,-280 702.6103,-226 702.6103,-226 702.6103,-220 708.6103,-214 714.6103,-214 714.6103,-214 840.6611,-214 840.6611,-214 846.6611,-214 852.6611,-220 852.6611,-226 852.6611,-226 852.6611,-280 852.6611,-280 852.6611,-286 846.6611,-292 840.6611,-292\"/>\n",
       "<text text-anchor=\"start\" x=\"720.8633\" y=\"-276.8\" font-family=\"Helvetica,sans-Serif\" font-size=\"14.00\" fill=\"#000000\">age_[55, 60) ≤ 0.5</text>\n",
       "<text text-anchor=\"start\" x=\"741.2446\" y=\"-262.8\" font-family=\"Helvetica,sans-Serif\" font-size=\"14.00\" fill=\"#000000\">gini = 0.283</text>\n",
       "<text text-anchor=\"start\" x=\"724.1274\" y=\"-248.8\" font-family=\"Helvetica,sans-Serif\" font-size=\"14.00\" fill=\"#000000\">samples = 14436</text>\n",
       "<text text-anchor=\"start\" x=\"710.623\" y=\"-234.8\" font-family=\"Helvetica,sans-Serif\" font-size=\"14.00\" fill=\"#000000\">value = [2464, 11972]</text>\n",
       "<text text-anchor=\"start\" x=\"749.8169\" y=\"-220.8\" font-family=\"Helvetica,sans-Serif\" font-size=\"14.00\" fill=\"#000000\">class = a</text>\n",
       "</g>\n",
       "<!-- 0&#45;&gt;8 -->\n",
       "<g id=\"edge8\" class=\"edge\">\n",
       "<title>0&#45;&gt;8</title>\n",
       "<path fill=\"none\" stroke=\"#000000\" d=\"M671.387,-327.7677C684.9541,-318.2204 699.5713,-307.9342 713.4933,-298.1373\"/>\n",
       "<polygon fill=\"#000000\" stroke=\"#000000\" points=\"715.8925,-300.7288 722.0563,-292.1115 711.864,-295.0041 715.8925,-300.7288\"/>\n",
       "<text text-anchor=\"middle\" x=\"717.7728\" y=\"-312.5417\" font-family=\"Helvetica,sans-Serif\" font-size=\"14.00\" fill=\"#000000\">False</text>\n",
       "</g>\n",
       "<!-- 2 -->\n",
       "<g id=\"node3\" class=\"node\">\n",
       "<title>2</title>\n",
       "<path fill=\"#e58139\" fill-opacity=\"0.388235\" stroke=\"#000000\" d=\"M307.9796,-178C307.9796,-178 173.2919,-178 173.2919,-178 167.2919,-178 161.2919,-172 161.2919,-166 161.2919,-166 161.2919,-112 161.2919,-112 161.2919,-106 167.2919,-100 173.2919,-100 173.2919,-100 307.9796,-100 307.9796,-100 313.9796,-100 319.9796,-106 319.9796,-112 319.9796,-112 319.9796,-166 319.9796,-166 319.9796,-172 313.9796,-178 307.9796,-178\"/>\n",
       "<text text-anchor=\"start\" x=\"181.5356\" y=\"-162.8\" font-family=\"Helvetica,sans-Serif\" font-size=\"14.00\" fill=\"#000000\">cholesterol_1 ≤ 0.5</text>\n",
       "<text text-anchor=\"start\" x=\"204.2446\" y=\"-148.8\" font-family=\"Helvetica,sans-Serif\" font-size=\"14.00\" fill=\"#000000\">gini = 0.471</text>\n",
       "<text text-anchor=\"start\" x=\"187.1274\" y=\"-134.8\" font-family=\"Helvetica,sans-Serif\" font-size=\"14.00\" fill=\"#000000\">samples = 51663</text>\n",
       "<text text-anchor=\"start\" x=\"169.2139\" y=\"-120.8\" font-family=\"Helvetica,sans-Serif\" font-size=\"14.00\" fill=\"#000000\">value = [32023, 19640]</text>\n",
       "<text text-anchor=\"start\" x=\"213.21\" y=\"-106.8\" font-family=\"Helvetica,sans-Serif\" font-size=\"14.00\" fill=\"#000000\">class = c</text>\n",
       "</g>\n",
       "<!-- 1&#45;&gt;2 -->\n",
       "<g id=\"edge2\" class=\"edge\">\n",
       "<title>1&#45;&gt;2</title>\n",
       "<path fill=\"none\" stroke=\"#000000\" d=\"M389.8328,-213.9272C369.7089,-203.8209 347.9182,-192.8775 327.3688,-182.5576\"/>\n",
       "<polygon fill=\"#000000\" stroke=\"#000000\" points=\"328.8442,-179.382 318.337,-178.0218 325.7026,-185.6375 328.8442,-179.382\"/>\n",
       "</g>\n",
       "<!-- 5 -->\n",
       "<g id=\"node6\" class=\"node\">\n",
       "<title>5</title>\n",
       "<path fill=\"#399de5\" fill-opacity=\"0.843137\" stroke=\"#000000\" d=\"M523.622,-178C523.622,-178 411.6495,-178 411.6495,-178 405.6495,-178 399.6495,-172 399.6495,-166 399.6495,-166 399.6495,-112 399.6495,-112 399.6495,-106 405.6495,-100 411.6495,-100 411.6495,-100 523.622,-100 523.622,-100 529.622,-100 535.622,-106 535.622,-112 535.622,-112 535.622,-166 535.622,-166 535.622,-172 529.622,-178 523.622,-178\"/>\n",
       "<text text-anchor=\"start\" x=\"429.5562\" y=\"-162.8\" font-family=\"Helvetica,sans-Serif\" font-size=\"14.00\" fill=\"#000000\">smoke ≤ 0.5</text>\n",
       "<text text-anchor=\"start\" x=\"431.2446\" y=\"-148.8\" font-family=\"Helvetica,sans-Serif\" font-size=\"14.00\" fill=\"#000000\">gini = 0.236</text>\n",
       "<text text-anchor=\"start\" x=\"418.0205\" y=\"-134.8\" font-family=\"Helvetica,sans-Serif\" font-size=\"14.00\" fill=\"#000000\">samples = 3901</text>\n",
       "<text text-anchor=\"start\" x=\"407.8931\" y=\"-120.8\" font-family=\"Helvetica,sans-Serif\" font-size=\"14.00\" fill=\"#000000\">value = [534, 3367]</text>\n",
       "<text text-anchor=\"start\" x=\"439.8169\" y=\"-106.8\" font-family=\"Helvetica,sans-Serif\" font-size=\"14.00\" fill=\"#000000\">class = a</text>\n",
       "</g>\n",
       "<!-- 1&#45;&gt;5 -->\n",
       "<g id=\"edge5\" class=\"edge\">\n",
       "<title>1&#45;&gt;5</title>\n",
       "<path fill=\"none\" stroke=\"#000000\" d=\"M467.6357,-213.7677C467.6357,-205.6172 467.6357,-196.9283 467.6357,-188.4649\"/>\n",
       "<polygon fill=\"#000000\" stroke=\"#000000\" points=\"471.1358,-188.3046 467.6357,-178.3046 464.1358,-188.3047 471.1358,-188.3046\"/>\n",
       "</g>\n",
       "<!-- 3 -->\n",
       "<g id=\"node4\" class=\"node\">\n",
       "<title>3</title>\n",
       "<path fill=\"#399de5\" fill-opacity=\"0.231373\" stroke=\"#000000\" d=\"M131.4075,-64C131.4075,-64 11.864,-64 11.864,-64 5.864,-64 -.136,-58 -.136,-52 -.136,-52 -.136,-12 -.136,-12 -.136,-6 5.864,0 11.864,0 11.864,0 131.4075,0 131.4075,0 137.4075,0 143.4075,-6 143.4075,-12 143.4075,-12 143.4075,-52 143.4075,-52 143.4075,-58 137.4075,-64 131.4075,-64\"/>\n",
       "<text text-anchor=\"start\" x=\"35.2446\" y=\"-48.8\" font-family=\"Helvetica,sans-Serif\" font-size=\"14.00\" fill=\"#000000\">gini = 0.491</text>\n",
       "<text text-anchor=\"start\" x=\"18.1274\" y=\"-34.8\" font-family=\"Helvetica,sans-Serif\" font-size=\"14.00\" fill=\"#000000\">samples = 10594</text>\n",
       "<text text-anchor=\"start\" x=\"8\" y=\"-20.8\" font-family=\"Helvetica,sans-Serif\" font-size=\"14.00\" fill=\"#000000\">value = [4600, 5994]</text>\n",
       "<text text-anchor=\"start\" x=\"43.8169\" y=\"-6.8\" font-family=\"Helvetica,sans-Serif\" font-size=\"14.00\" fill=\"#000000\">class = a</text>\n",
       "</g>\n",
       "<!-- 2&#45;&gt;3 -->\n",
       "<g id=\"edge3\" class=\"edge\">\n",
       "<title>2&#45;&gt;3</title>\n",
       "<path fill=\"none\" stroke=\"#000000\" d=\"M178.666,-99.7647C163.0075,-89.8508 146.2355,-79.2318 130.7233,-69.4105\"/>\n",
       "<polygon fill=\"#000000\" stroke=\"#000000\" points=\"132.5713,-66.438 122.2501,-64.0458 128.8268,-72.3523 132.5713,-66.438\"/>\n",
       "</g>\n",
       "<!-- 4 -->\n",
       "<g id=\"node5\" class=\"node\">\n",
       "<title>4</title>\n",
       "<path fill=\"#e58139\" fill-opacity=\"0.501961\" stroke=\"#000000\" d=\"M307.9796,-64C307.9796,-64 173.2919,-64 173.2919,-64 167.2919,-64 161.2919,-58 161.2919,-52 161.2919,-52 161.2919,-12 161.2919,-12 161.2919,-6 167.2919,0 173.2919,0 173.2919,0 307.9796,0 307.9796,0 313.9796,0 319.9796,-6 319.9796,-12 319.9796,-12 319.9796,-52 319.9796,-52 319.9796,-58 313.9796,-64 307.9796,-64\"/>\n",
       "<text text-anchor=\"start\" x=\"204.2446\" y=\"-48.8\" font-family=\"Helvetica,sans-Serif\" font-size=\"14.00\" fill=\"#000000\">gini = 0.444</text>\n",
       "<text text-anchor=\"start\" x=\"187.1274\" y=\"-34.8\" font-family=\"Helvetica,sans-Serif\" font-size=\"14.00\" fill=\"#000000\">samples = 41069</text>\n",
       "<text text-anchor=\"start\" x=\"169.2139\" y=\"-20.8\" font-family=\"Helvetica,sans-Serif\" font-size=\"14.00\" fill=\"#000000\">value = [27423, 13646]</text>\n",
       "<text text-anchor=\"start\" x=\"213.21\" y=\"-6.8\" font-family=\"Helvetica,sans-Serif\" font-size=\"14.00\" fill=\"#000000\">class = c</text>\n",
       "</g>\n",
       "<!-- 2&#45;&gt;4 -->\n",
       "<g id=\"edge4\" class=\"edge\">\n",
       "<title>2&#45;&gt;4</title>\n",
       "<path fill=\"none\" stroke=\"#000000\" d=\"M240.6357,-99.7647C240.6357,-91.4537 240.6357,-82.6472 240.6357,-74.2305\"/>\n",
       "<polygon fill=\"#000000\" stroke=\"#000000\" points=\"244.1358,-74.2168 240.6357,-64.2169 237.1358,-74.2169 244.1358,-74.2168\"/>\n",
       "</g>\n",
       "<!-- 6 -->\n",
       "<g id=\"node7\" class=\"node\">\n",
       "<title>6</title>\n",
       "<path fill=\"#399de5\" fill-opacity=\"0.839216\" stroke=\"#000000\" d=\"M461.622,-64C461.622,-64 349.6495,-64 349.6495,-64 343.6495,-64 337.6495,-58 337.6495,-52 337.6495,-52 337.6495,-12 337.6495,-12 337.6495,-6 343.6495,0 349.6495,0 349.6495,0 461.622,0 461.622,0 467.622,0 473.622,-6 473.622,-12 473.622,-12 473.622,-52 473.622,-52 473.622,-58 467.622,-64 461.622,-64\"/>\n",
       "<text text-anchor=\"start\" x=\"373.1377\" y=\"-48.8\" font-family=\"Helvetica,sans-Serif\" font-size=\"14.00\" fill=\"#000000\">gini = 0.24</text>\n",
       "<text text-anchor=\"start\" x=\"356.0205\" y=\"-34.8\" font-family=\"Helvetica,sans-Serif\" font-size=\"14.00\" fill=\"#000000\">samples = 3514</text>\n",
       "<text text-anchor=\"start\" x=\"345.8931\" y=\"-20.8\" font-family=\"Helvetica,sans-Serif\" font-size=\"14.00\" fill=\"#000000\">value = [489, 3025]</text>\n",
       "<text text-anchor=\"start\" x=\"377.8169\" y=\"-6.8\" font-family=\"Helvetica,sans-Serif\" font-size=\"14.00\" fill=\"#000000\">class = a</text>\n",
       "</g>\n",
       "<!-- 5&#45;&gt;6 -->\n",
       "<g id=\"edge6\" class=\"edge\">\n",
       "<title>5&#45;&gt;6</title>\n",
       "<path fill=\"none\" stroke=\"#000000\" d=\"M444.9013,-99.7647C439.8739,-91.0884 434.5336,-81.8721 429.464,-73.123\"/>\n",
       "<polygon fill=\"#000000\" stroke=\"#000000\" points=\"432.3454,-71.1145 424.3035,-64.2169 426.2887,-74.6241 432.3454,-71.1145\"/>\n",
       "</g>\n",
       "<!-- 7 -->\n",
       "<g id=\"node8\" class=\"node\">\n",
       "<title>7</title>\n",
       "<path fill=\"#399de5\" fill-opacity=\"0.866667\" stroke=\"#000000\" d=\"M599.5489,-64C599.5489,-64 503.7226,-64 503.7226,-64 497.7226,-64 491.7226,-58 491.7226,-52 491.7226,-52 491.7226,-12 491.7226,-12 491.7226,-6 497.7226,0 503.7226,0 503.7226,0 599.5489,0 599.5489,0 605.5489,0 611.5489,-6 611.5489,-12 611.5489,-12 611.5489,-52 611.5489,-52 611.5489,-58 605.5489,-64 599.5489,-64\"/>\n",
       "<text text-anchor=\"start\" x=\"515.2446\" y=\"-48.8\" font-family=\"Helvetica,sans-Serif\" font-size=\"14.00\" fill=\"#000000\">gini = 0.206</text>\n",
       "<text text-anchor=\"start\" x=\"505.9136\" y=\"-34.8\" font-family=\"Helvetica,sans-Serif\" font-size=\"14.00\" fill=\"#000000\">samples = 387</text>\n",
       "<text text-anchor=\"start\" x=\"499.6792\" y=\"-20.8\" font-family=\"Helvetica,sans-Serif\" font-size=\"14.00\" fill=\"#000000\">value = [45, 342]</text>\n",
       "<text text-anchor=\"start\" x=\"523.8169\" y=\"-6.8\" font-family=\"Helvetica,sans-Serif\" font-size=\"14.00\" fill=\"#000000\">class = a</text>\n",
       "</g>\n",
       "<!-- 5&#45;&gt;7 -->\n",
       "<g id=\"edge7\" class=\"edge\">\n",
       "<title>5&#45;&gt;7</title>\n",
       "<path fill=\"none\" stroke=\"#000000\" d=\"M498.4373,-99.7647C505.4637,-90.8144 512.9412,-81.2894 520.0019,-72.2955\"/>\n",
       "<polygon fill=\"#000000\" stroke=\"#000000\" points=\"522.922,-74.2439 526.344,-64.2169 517.416,-69.9214 522.922,-74.2439\"/>\n",
       "</g>\n",
       "<!-- 9 -->\n",
       "<g id=\"node10\" class=\"node\">\n",
       "<title>9</title>\n",
       "<path fill=\"#399de5\" fill-opacity=\"0.803922\" stroke=\"#000000\" d=\"M837.4075,-178C837.4075,-178 717.864,-178 717.864,-178 711.864,-178 705.864,-172 705.864,-166 705.864,-166 705.864,-112 705.864,-112 705.864,-106 711.864,-100 717.864,-100 717.864,-100 837.4075,-100 837.4075,-100 843.4075,-100 849.4075,-106 849.4075,-112 849.4075,-112 849.4075,-166 849.4075,-166 849.4075,-172 843.4075,-178 837.4075,-178\"/>\n",
       "<text text-anchor=\"start\" x=\"720.8633\" y=\"-162.8\" font-family=\"Helvetica,sans-Serif\" font-size=\"14.00\" fill=\"#000000\">age_[50, 55) ≤ 0.5</text>\n",
       "<text text-anchor=\"start\" x=\"741.2446\" y=\"-148.8\" font-family=\"Helvetica,sans-Serif\" font-size=\"14.00\" fill=\"#000000\">gini = 0.274</text>\n",
       "<text text-anchor=\"start\" x=\"724.1274\" y=\"-134.8\" font-family=\"Helvetica,sans-Serif\" font-size=\"14.00\" fill=\"#000000\">samples = 10208</text>\n",
       "<text text-anchor=\"start\" x=\"714\" y=\"-120.8\" font-family=\"Helvetica,sans-Serif\" font-size=\"14.00\" fill=\"#000000\">value = [1671, 8537]</text>\n",
       "<text text-anchor=\"start\" x=\"749.8169\" y=\"-106.8\" font-family=\"Helvetica,sans-Serif\" font-size=\"14.00\" fill=\"#000000\">class = a</text>\n",
       "</g>\n",
       "<!-- 8&#45;&gt;9 -->\n",
       "<g id=\"edge9\" class=\"edge\">\n",
       "<title>8&#45;&gt;9</title>\n",
       "<path fill=\"none\" stroke=\"#000000\" d=\"M777.6357,-213.7677C777.6357,-205.6172 777.6357,-196.9283 777.6357,-188.4649\"/>\n",
       "<polygon fill=\"#000000\" stroke=\"#000000\" points=\"781.1358,-188.3046 777.6357,-178.3046 774.1358,-188.3047 781.1358,-188.3046\"/>\n",
       "</g>\n",
       "<!-- 12 -->\n",
       "<g id=\"node13\" class=\"node\">\n",
       "<title>12</title>\n",
       "<path fill=\"#399de5\" fill-opacity=\"0.768627\" stroke=\"#000000\" d=\"M1067.622,-178C1067.622,-178 955.6495,-178 955.6495,-178 949.6495,-178 943.6495,-172 943.6495,-166 943.6495,-166 943.6495,-112 943.6495,-112 943.6495,-106 949.6495,-100 955.6495,-100 955.6495,-100 1067.622,-100 1067.622,-100 1073.622,-100 1079.622,-106 1079.622,-112 1079.622,-112 1079.622,-166 1079.622,-166 1079.622,-172 1073.622,-178 1067.622,-178\"/>\n",
       "<text text-anchor=\"start\" x=\"952.5356\" y=\"-162.8\" font-family=\"Helvetica,sans-Serif\" font-size=\"14.00\" fill=\"#000000\">cholesterol_0 ≤ 0.5</text>\n",
       "<text text-anchor=\"start\" x=\"975.2446\" y=\"-148.8\" font-family=\"Helvetica,sans-Serif\" font-size=\"14.00\" fill=\"#000000\">gini = 0.305</text>\n",
       "<text text-anchor=\"start\" x=\"962.0205\" y=\"-134.8\" font-family=\"Helvetica,sans-Serif\" font-size=\"14.00\" fill=\"#000000\">samples = 4228</text>\n",
       "<text text-anchor=\"start\" x=\"951.8931\" y=\"-120.8\" font-family=\"Helvetica,sans-Serif\" font-size=\"14.00\" fill=\"#000000\">value = [793, 3435]</text>\n",
       "<text text-anchor=\"start\" x=\"983.8169\" y=\"-106.8\" font-family=\"Helvetica,sans-Serif\" font-size=\"14.00\" fill=\"#000000\">class = a</text>\n",
       "</g>\n",
       "<!-- 8&#45;&gt;12 -->\n",
       "<g id=\"edge12\" class=\"edge\">\n",
       "<title>8&#45;&gt;12</title>\n",
       "<path fill=\"none\" stroke=\"#000000\" d=\"M852.9629,-216.3022C879.0168,-203.6092 908.2422,-189.3712 934.4436,-176.6065\"/>\n",
       "<polygon fill=\"#000000\" stroke=\"#000000\" points=\"936.118,-179.684 943.575,-172.1578 933.0522,-173.3911 936.118,-179.684\"/>\n",
       "</g>\n",
       "<!-- 10 -->\n",
       "<g id=\"node11\" class=\"node\">\n",
       "<title>10</title>\n",
       "<path fill=\"#399de5\" fill-opacity=\"0.815686\" stroke=\"#000000\" d=\"M761.4075,-64C761.4075,-64 641.864,-64 641.864,-64 635.864,-64 629.864,-58 629.864,-52 629.864,-52 629.864,-12 629.864,-12 629.864,-6 635.864,0 641.864,0 641.864,0 761.4075,0 761.4075,0 767.4075,0 773.4075,-6 773.4075,-12 773.4075,-12 773.4075,-52 773.4075,-52 773.4075,-58 767.4075,-64 761.4075,-64\"/>\n",
       "<text text-anchor=\"start\" x=\"665.2446\" y=\"-48.8\" font-family=\"Helvetica,sans-Serif\" font-size=\"14.00\" fill=\"#000000\">gini = 0.265</text>\n",
       "<text text-anchor=\"start\" x=\"652.0205\" y=\"-34.8\" font-family=\"Helvetica,sans-Serif\" font-size=\"14.00\" fill=\"#000000\">samples = 6833</text>\n",
       "<text text-anchor=\"start\" x=\"638\" y=\"-20.8\" font-family=\"Helvetica,sans-Serif\" font-size=\"14.00\" fill=\"#000000\">value = [1072, 5761]</text>\n",
       "<text text-anchor=\"start\" x=\"673.8169\" y=\"-6.8\" font-family=\"Helvetica,sans-Serif\" font-size=\"14.00\" fill=\"#000000\">class = a</text>\n",
       "</g>\n",
       "<!-- 9&#45;&gt;10 -->\n",
       "<g id=\"edge10\" class=\"edge\">\n",
       "<title>9&#45;&gt;10</title>\n",
       "<path fill=\"none\" stroke=\"#000000\" d=\"M749.7677,-99.7647C743.4753,-90.9057 736.7831,-81.4838 730.4526,-72.571\"/>\n",
       "<polygon fill=\"#000000\" stroke=\"#000000\" points=\"733.163,-70.3429 724.5188,-64.2169 727.4561,-74.3964 733.163,-70.3429\"/>\n",
       "</g>\n",
       "<!-- 11 -->\n",
       "<g id=\"node12\" class=\"node\">\n",
       "<title>11</title>\n",
       "<path fill=\"#399de5\" fill-opacity=\"0.784314\" stroke=\"#000000\" d=\"M914.622,-64C914.622,-64 802.6495,-64 802.6495,-64 796.6495,-64 790.6495,-58 790.6495,-52 790.6495,-52 790.6495,-12 790.6495,-12 790.6495,-6 796.6495,0 802.6495,0 802.6495,0 914.622,0 914.622,0 920.622,0 926.622,-6 926.622,-12 926.622,-12 926.622,-52 926.622,-52 926.622,-58 920.622,-64 914.622,-64\"/>\n",
       "<text text-anchor=\"start\" x=\"822.2446\" y=\"-48.8\" font-family=\"Helvetica,sans-Serif\" font-size=\"14.00\" fill=\"#000000\">gini = 0.292</text>\n",
       "<text text-anchor=\"start\" x=\"809.0205\" y=\"-34.8\" font-family=\"Helvetica,sans-Serif\" font-size=\"14.00\" fill=\"#000000\">samples = 3375</text>\n",
       "<text text-anchor=\"start\" x=\"798.8931\" y=\"-20.8\" font-family=\"Helvetica,sans-Serif\" font-size=\"14.00\" fill=\"#000000\">value = [599, 2776]</text>\n",
       "<text text-anchor=\"start\" x=\"830.8169\" y=\"-6.8\" font-family=\"Helvetica,sans-Serif\" font-size=\"14.00\" fill=\"#000000\">class = a</text>\n",
       "</g>\n",
       "<!-- 9&#45;&gt;11 -->\n",
       "<g id=\"edge11\" class=\"edge\">\n",
       "<title>9&#45;&gt;11</title>\n",
       "<path fill=\"none\" stroke=\"#000000\" d=\"M807.3372,-99.7647C814.1127,-90.8144 821.3232,-81.2894 828.1316,-72.2955\"/>\n",
       "<polygon fill=\"#000000\" stroke=\"#000000\" points=\"831.0021,-74.3025 834.2473,-64.2169 825.4209,-70.0775 831.0021,-74.3025\"/>\n",
       "</g>\n",
       "<!-- 13 -->\n",
       "<g id=\"node14\" class=\"node\">\n",
       "<title>13</title>\n",
       "<path fill=\"#399de5\" fill-opacity=\"0.745098\" stroke=\"#000000\" d=\"M1067.622,-64C1067.622,-64 955.6495,-64 955.6495,-64 949.6495,-64 943.6495,-58 943.6495,-52 943.6495,-52 943.6495,-12 943.6495,-12 943.6495,-6 949.6495,0 955.6495,0 955.6495,0 1067.622,0 1067.622,0 1073.622,0 1079.622,-6 1079.622,-12 1079.622,-12 1079.622,-52 1079.622,-52 1079.622,-58 1073.622,-64 1067.622,-64\"/>\n",
       "<text text-anchor=\"start\" x=\"975.2446\" y=\"-48.8\" font-family=\"Helvetica,sans-Serif\" font-size=\"14.00\" fill=\"#000000\">gini = 0.323</text>\n",
       "<text text-anchor=\"start\" x=\"962.0205\" y=\"-34.8\" font-family=\"Helvetica,sans-Serif\" font-size=\"14.00\" fill=\"#000000\">samples = 2536</text>\n",
       "<text text-anchor=\"start\" x=\"951.8931\" y=\"-20.8\" font-family=\"Helvetica,sans-Serif\" font-size=\"14.00\" fill=\"#000000\">value = [513, 2023]</text>\n",
       "<text text-anchor=\"start\" x=\"983.8169\" y=\"-6.8\" font-family=\"Helvetica,sans-Serif\" font-size=\"14.00\" fill=\"#000000\">class = a</text>\n",
       "</g>\n",
       "<!-- 12&#45;&gt;13 -->\n",
       "<g id=\"edge13\" class=\"edge\">\n",
       "<title>12&#45;&gt;13</title>\n",
       "<path fill=\"none\" stroke=\"#000000\" d=\"M1011.6357,-99.7647C1011.6357,-91.4537 1011.6357,-82.6472 1011.6357,-74.2305\"/>\n",
       "<polygon fill=\"#000000\" stroke=\"#000000\" points=\"1015.1358,-74.2168 1011.6357,-64.2169 1008.1358,-74.2169 1015.1358,-74.2168\"/>\n",
       "</g>\n",
       "<!-- 14 -->\n",
       "<g id=\"node15\" class=\"node\">\n",
       "<title>14</title>\n",
       "<path fill=\"#399de5\" fill-opacity=\"0.800000\" stroke=\"#000000\" d=\"M1220.622,-64C1220.622,-64 1108.6495,-64 1108.6495,-64 1102.6495,-64 1096.6495,-58 1096.6495,-52 1096.6495,-52 1096.6495,-12 1096.6495,-12 1096.6495,-6 1102.6495,0 1108.6495,0 1108.6495,0 1220.622,0 1220.622,0 1226.622,0 1232.622,-6 1232.622,-12 1232.622,-12 1232.622,-52 1232.622,-52 1232.622,-58 1226.622,-64 1220.622,-64\"/>\n",
       "<text text-anchor=\"start\" x=\"1128.2446\" y=\"-48.8\" font-family=\"Helvetica,sans-Serif\" font-size=\"14.00\" fill=\"#000000\">gini = 0.276</text>\n",
       "<text text-anchor=\"start\" x=\"1115.0205\" y=\"-34.8\" font-family=\"Helvetica,sans-Serif\" font-size=\"14.00\" fill=\"#000000\">samples = 1692</text>\n",
       "<text text-anchor=\"start\" x=\"1104.8931\" y=\"-20.8\" font-family=\"Helvetica,sans-Serif\" font-size=\"14.00\" fill=\"#000000\">value = [280, 1412]</text>\n",
       "<text text-anchor=\"start\" x=\"1136.8169\" y=\"-6.8\" font-family=\"Helvetica,sans-Serif\" font-size=\"14.00\" fill=\"#000000\">class = a</text>\n",
       "</g>\n",
       "<!-- 12&#45;&gt;14 -->\n",
       "<g id=\"edge14\" class=\"edge\">\n",
       "<title>12&#45;&gt;14</title>\n",
       "<path fill=\"none\" stroke=\"#000000\" d=\"M1067.7385,-99.7647C1081.5814,-90.0838 1096.3856,-79.7305 1110.1503,-70.1042\"/>\n",
       "<polygon fill=\"#000000\" stroke=\"#000000\" points=\"1112.3796,-72.8161 1118.5686,-64.2169 1108.3679,-67.0797 1112.3796,-72.8161\"/>\n",
       "</g>\n",
       "</g>\n",
       "</svg>\n"
      ],
      "text/plain": [
       "<graphviz.files.Source at 0x117a46898>"
      ]
     },
     "execution_count": 79,
     "metadata": {},
     "output_type": "execute_result"
    }
   ],
   "source": [
    "dot_data = export_graphviz(decision_tree=model_new, out_file=None, \n",
    "                                        feature_names=X_train_new.columns, class_names=y_train_new.name, \n",
    "                                        filled=True, rounded=True,  special_characters=True)\n",
    "graph2 = graphviz.Source(dot_data) \n",
    "graph2"
   ]
  },
  {
   "cell_type": "code",
   "execution_count": null,
   "metadata": {},
   "outputs": [],
   "source": []
  }
 ],
 "metadata": {
  "hide_input": false,
  "kernelspec": {
   "display_name": "Python 3",
   "language": "python",
   "name": "python3"
  },
  "language_info": {
   "codemirror_mode": {
    "name": "ipython",
    "version": 3
   },
   "file_extension": ".py",
   "mimetype": "text/x-python",
   "name": "python",
   "nbconvert_exporter": "python",
   "pygments_lexer": "ipython3",
   "version": "3.6.5"
  },
  "name": "lesson4_part2_Decision_trees.ipynb",
  "toc": {
   "base_numbering": 1,
   "nav_menu": {},
   "number_sections": true,
   "sideBar": true,
   "skip_h1_title": false,
   "title_cell": "Table of Contents",
   "title_sidebar": "Contents",
   "toc_cell": false,
   "toc_position": {},
   "toc_section_display": true,
   "toc_window_display": false
  }
 },
 "nbformat": 4,
 "nbformat_minor": 1
}
